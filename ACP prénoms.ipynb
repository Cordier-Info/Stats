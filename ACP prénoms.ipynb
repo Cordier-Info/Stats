{
 "cells": [
  {
   "cell_type": "markdown",
   "id": "50ef722f",
   "metadata": {},
   "source": [
    "# ACP sur prénoms"
   ]
  },
  {
   "cell_type": "code",
   "execution_count": 181,
   "id": "be7476a0",
   "metadata": {},
   "outputs": [],
   "source": [
    "import pandas as pd\n",
    "import matplotlib.pyplot as plt \n",
    "import seaborn as sns \n",
    "import numpy as np \n",
    "import plotly.express as px\n",
    "from sklearn.decomposition import PCA\n",
    "from sklearn.preprocessing import StandardScaler"
   ]
  },
  {
   "cell_type": "markdown",
   "id": "f73e268a",
   "metadata": {},
   "source": [
    "Dans Colab faut installer ces packages :"
   ]
  },
  {
   "cell_type": "code",
   "execution_count": null,
   "id": "240c58fb",
   "metadata": {},
   "outputs": [],
   "source": [
    "!apt install gdal-bin python-gdal python3-gdal \n",
    "!apt install python3-rtree \n",
    "!pip install -q git+git://github.com/geopandas/geopandas.git\n",
    "!pip install -q contextily\n",
    "!pip install -q mapclassify"
   ]
  },
  {
   "cell_type": "code",
   "execution_count": 702,
   "id": "36d2519b",
   "metadata": {},
   "outputs": [],
   "source": [
    "import contextily as cx\n",
    "import mapclassify\n",
    "import geopandas as gpd"
   ]
  },
  {
   "cell_type": "markdown",
   "id": "d029dc28",
   "metadata": {},
   "source": [
    "## Importation des données et toilettage."
   ]
  },
  {
   "cell_type": "code",
   "execution_count": 703,
   "id": "b91ae62b",
   "metadata": {},
   "outputs": [],
   "source": [
    "url = \"http://cordier-phychi.toile-libre.org/Info/github/dpt2019.csv\"\n",
    "prenoms_data = pd.read_csv(url,sep=\";\")"
   ]
  },
  {
   "cell_type": "markdown",
   "id": "5b3e04a3",
   "metadata": {},
   "source": [
    "choix :\n",
    "- on ne s'occupe que des années de 2001 (`y_deb`) à 2019 (`y_fin`)\n",
    "- on ne garde que les prénoms qui apparaissent au moins 50 (`nb_min`) fois. "
   ]
  },
  {
   "cell_type": "code",
   "execution_count": 704,
   "id": "cd5630b5",
   "metadata": {},
   "outputs": [],
   "source": [
    "y_deb = 2001\n",
    "y_fin = 2019\n",
    "nb_min = 100"
   ]
  },
  {
   "cell_type": "code",
   "execution_count": 705,
   "id": "59147de0",
   "metadata": {},
   "outputs": [],
   "source": [
    "prenoms_data = prenoms_data[prenoms_data['preusuel']!='_PRENOMS_RARES']\n",
    "prenoms_data = prenoms_data[~(prenoms_data['dpt']==\"XX\")]\n",
    "prenoms_data['dpt'] = pd.to_numeric(prenoms_data['dpt'])\n",
    "prenoms_data['annais'] = pd.to_numeric(prenoms_data['annais'])\n",
    "prenoms_data = prenoms_data[prenoms_data[\"dpt\"]<96]\n",
    "prenoms_data = prenoms_data[prenoms_data[\"annais\"]>=2001]\n",
    "cumul_prenoms = prenoms_data.groupby([\"preusuel\"], as_index=False)[\"nombre\"].agg('sum')\n",
    "cumul_prenoms = cumul_prenoms[cumul_prenoms[\"nombre\"]>nb_min]\n",
    "prenoms_data = prenoms_data[prenoms_data['preusuel'].isin(cumul_prenoms['preusuel'])]"
   ]
  },
  {
   "cell_type": "code",
   "execution_count": 706,
   "id": "961c54c5",
   "metadata": {},
   "outputs": [],
   "source": [
    "départements = pd.unique(prenoms_data[\"dpt\"])\n",
    "# Attention, la corse est le département 20 dans ces data (pas 2A et 2B)\n",
    "a = prenoms_data.groupby([\"preusuel\", \"dpt\"], as_index=False)[\"nombre\"].sum()\n",
    "# on somme sur les années par prénom et par département"
   ]
  },
  {
   "cell_type": "code",
   "execution_count": 707,
   "id": "f1698497",
   "metadata": {},
   "outputs": [
    {
     "name": "stdout",
     "output_type": "stream",
     "text": [
      "2942 prénoms en tout\n"
     ]
    }
   ],
   "source": [
    "prénoms = pd.unique(prenoms_data[\"preusuel\"])\n",
    "print(f\"{len(prénoms)} prénoms en tout\")"
   ]
  },
  {
   "cell_type": "markdown",
   "id": "9531a795",
   "metadata": {},
   "source": [
    "Fabrication d'une dataframe avec chaque prénom en colonne et les départements en index."
   ]
  },
  {
   "cell_type": "code",
   "execution_count": 708,
   "id": "19b738f7",
   "metadata": {},
   "outputs": [
    {
     "data": {
      "text/html": [
       "<div>\n",
       "<style scoped>\n",
       "    .dataframe tbody tr th:only-of-type {\n",
       "        vertical-align: middle;\n",
       "    }\n",
       "\n",
       "    .dataframe tbody tr th {\n",
       "        vertical-align: top;\n",
       "    }\n",
       "\n",
       "    .dataframe thead th {\n",
       "        text-align: right;\n",
       "    }\n",
       "</style>\n",
       "<table border=\"1\" class=\"dataframe\">\n",
       "  <thead>\n",
       "    <tr style=\"text-align: right;\">\n",
       "      <th></th>\n",
       "      <th>AARON</th>\n",
       "      <th>ABD</th>\n",
       "      <th>ABDALLAH</th>\n",
       "      <th>ABDEL</th>\n",
       "      <th>ABDELKADER</th>\n",
       "      <th>ABDELKARIM</th>\n",
       "      <th>ABDELLAH</th>\n",
       "      <th>ABDELMALIK</th>\n",
       "      <th>ABDELRAHMAN</th>\n",
       "      <th>ABDERAHMANE</th>\n",
       "      <th>...</th>\n",
       "      <th>ZEYNEB</th>\n",
       "      <th>ZEYNEP</th>\n",
       "      <th>ZIA</th>\n",
       "      <th>ZINA</th>\n",
       "      <th>ZINEB</th>\n",
       "      <th>ZOE</th>\n",
       "      <th>ZOÉ</th>\n",
       "      <th>ZOË</th>\n",
       "      <th>ZOHRA</th>\n",
       "      <th>ZOLA</th>\n",
       "    </tr>\n",
       "  </thead>\n",
       "  <tbody>\n",
       "    <tr>\n",
       "      <th>1</th>\n",
       "      <td>147</td>\n",
       "      <td>0</td>\n",
       "      <td>7</td>\n",
       "      <td>0</td>\n",
       "      <td>0</td>\n",
       "      <td>0</td>\n",
       "      <td>0</td>\n",
       "      <td>0</td>\n",
       "      <td>0</td>\n",
       "      <td>0</td>\n",
       "      <td>...</td>\n",
       "      <td>3</td>\n",
       "      <td>17</td>\n",
       "      <td>0</td>\n",
       "      <td>0</td>\n",
       "      <td>3</td>\n",
       "      <td>9</td>\n",
       "      <td>253</td>\n",
       "      <td>0</td>\n",
       "      <td>0</td>\n",
       "      <td>0</td>\n",
       "    </tr>\n",
       "    <tr>\n",
       "      <th>2</th>\n",
       "      <td>213</td>\n",
       "      <td>0</td>\n",
       "      <td>0</td>\n",
       "      <td>0</td>\n",
       "      <td>0</td>\n",
       "      <td>0</td>\n",
       "      <td>0</td>\n",
       "      <td>0</td>\n",
       "      <td>0</td>\n",
       "      <td>0</td>\n",
       "      <td>...</td>\n",
       "      <td>0</td>\n",
       "      <td>3</td>\n",
       "      <td>0</td>\n",
       "      <td>0</td>\n",
       "      <td>3</td>\n",
       "      <td>21</td>\n",
       "      <td>504</td>\n",
       "      <td>0</td>\n",
       "      <td>0</td>\n",
       "      <td>0</td>\n",
       "    </tr>\n",
       "    <tr>\n",
       "      <th>3</th>\n",
       "      <td>125</td>\n",
       "      <td>0</td>\n",
       "      <td>0</td>\n",
       "      <td>0</td>\n",
       "      <td>0</td>\n",
       "      <td>0</td>\n",
       "      <td>0</td>\n",
       "      <td>0</td>\n",
       "      <td>0</td>\n",
       "      <td>0</td>\n",
       "      <td>...</td>\n",
       "      <td>0</td>\n",
       "      <td>0</td>\n",
       "      <td>0</td>\n",
       "      <td>0</td>\n",
       "      <td>0</td>\n",
       "      <td>20</td>\n",
       "      <td>246</td>\n",
       "      <td>0</td>\n",
       "      <td>0</td>\n",
       "      <td>0</td>\n",
       "    </tr>\n",
       "    <tr>\n",
       "      <th>4</th>\n",
       "      <td>53</td>\n",
       "      <td>0</td>\n",
       "      <td>0</td>\n",
       "      <td>0</td>\n",
       "      <td>0</td>\n",
       "      <td>0</td>\n",
       "      <td>0</td>\n",
       "      <td>0</td>\n",
       "      <td>0</td>\n",
       "      <td>0</td>\n",
       "      <td>...</td>\n",
       "      <td>0</td>\n",
       "      <td>0</td>\n",
       "      <td>0</td>\n",
       "      <td>0</td>\n",
       "      <td>0</td>\n",
       "      <td>4</td>\n",
       "      <td>38</td>\n",
       "      <td>0</td>\n",
       "      <td>0</td>\n",
       "      <td>0</td>\n",
       "    </tr>\n",
       "    <tr>\n",
       "      <th>5</th>\n",
       "      <td>40</td>\n",
       "      <td>0</td>\n",
       "      <td>0</td>\n",
       "      <td>0</td>\n",
       "      <td>0</td>\n",
       "      <td>0</td>\n",
       "      <td>0</td>\n",
       "      <td>0</td>\n",
       "      <td>0</td>\n",
       "      <td>0</td>\n",
       "      <td>...</td>\n",
       "      <td>0</td>\n",
       "      <td>0</td>\n",
       "      <td>0</td>\n",
       "      <td>0</td>\n",
       "      <td>0</td>\n",
       "      <td>7</td>\n",
       "      <td>97</td>\n",
       "      <td>0</td>\n",
       "      <td>0</td>\n",
       "      <td>0</td>\n",
       "    </tr>\n",
       "    <tr>\n",
       "      <th>...</th>\n",
       "      <td>...</td>\n",
       "      <td>...</td>\n",
       "      <td>...</td>\n",
       "      <td>...</td>\n",
       "      <td>...</td>\n",
       "      <td>...</td>\n",
       "      <td>...</td>\n",
       "      <td>...</td>\n",
       "      <td>...</td>\n",
       "      <td>...</td>\n",
       "      <td>...</td>\n",
       "      <td>...</td>\n",
       "      <td>...</td>\n",
       "      <td>...</td>\n",
       "      <td>...</td>\n",
       "      <td>...</td>\n",
       "      <td>...</td>\n",
       "      <td>...</td>\n",
       "      <td>...</td>\n",
       "      <td>...</td>\n",
       "      <td>...</td>\n",
       "    </tr>\n",
       "    <tr>\n",
       "      <th>91</th>\n",
       "      <td>565</td>\n",
       "      <td>0</td>\n",
       "      <td>88</td>\n",
       "      <td>10</td>\n",
       "      <td>9</td>\n",
       "      <td>0</td>\n",
       "      <td>3</td>\n",
       "      <td>3</td>\n",
       "      <td>0</td>\n",
       "      <td>0</td>\n",
       "      <td>...</td>\n",
       "      <td>15</td>\n",
       "      <td>61</td>\n",
       "      <td>6</td>\n",
       "      <td>10</td>\n",
       "      <td>29</td>\n",
       "      <td>25</td>\n",
       "      <td>666</td>\n",
       "      <td>0</td>\n",
       "      <td>8</td>\n",
       "      <td>3</td>\n",
       "    </tr>\n",
       "    <tr>\n",
       "      <th>92</th>\n",
       "      <td>774</td>\n",
       "      <td>19</td>\n",
       "      <td>215</td>\n",
       "      <td>44</td>\n",
       "      <td>44</td>\n",
       "      <td>6</td>\n",
       "      <td>71</td>\n",
       "      <td>3</td>\n",
       "      <td>10</td>\n",
       "      <td>3</td>\n",
       "      <td>...</td>\n",
       "      <td>26</td>\n",
       "      <td>3</td>\n",
       "      <td>11</td>\n",
       "      <td>18</td>\n",
       "      <td>89</td>\n",
       "      <td>71</td>\n",
       "      <td>1256</td>\n",
       "      <td>6</td>\n",
       "      <td>30</td>\n",
       "      <td>0</td>\n",
       "    </tr>\n",
       "    <tr>\n",
       "      <th>93</th>\n",
       "      <td>643</td>\n",
       "      <td>33</td>\n",
       "      <td>335</td>\n",
       "      <td>98</td>\n",
       "      <td>109</td>\n",
       "      <td>23</td>\n",
       "      <td>94</td>\n",
       "      <td>12</td>\n",
       "      <td>33</td>\n",
       "      <td>34</td>\n",
       "      <td>...</td>\n",
       "      <td>92</td>\n",
       "      <td>113</td>\n",
       "      <td>0</td>\n",
       "      <td>42</td>\n",
       "      <td>130</td>\n",
       "      <td>6</td>\n",
       "      <td>481</td>\n",
       "      <td>0</td>\n",
       "      <td>85</td>\n",
       "      <td>0</td>\n",
       "    </tr>\n",
       "    <tr>\n",
       "      <th>94</th>\n",
       "      <td>742</td>\n",
       "      <td>3</td>\n",
       "      <td>162</td>\n",
       "      <td>26</td>\n",
       "      <td>44</td>\n",
       "      <td>0</td>\n",
       "      <td>27</td>\n",
       "      <td>6</td>\n",
       "      <td>3</td>\n",
       "      <td>6</td>\n",
       "      <td>...</td>\n",
       "      <td>17</td>\n",
       "      <td>21</td>\n",
       "      <td>0</td>\n",
       "      <td>3</td>\n",
       "      <td>44</td>\n",
       "      <td>62</td>\n",
       "      <td>654</td>\n",
       "      <td>0</td>\n",
       "      <td>31</td>\n",
       "      <td>0</td>\n",
       "    </tr>\n",
       "    <tr>\n",
       "      <th>95</th>\n",
       "      <td>640</td>\n",
       "      <td>5</td>\n",
       "      <td>192</td>\n",
       "      <td>16</td>\n",
       "      <td>35</td>\n",
       "      <td>8</td>\n",
       "      <td>33</td>\n",
       "      <td>0</td>\n",
       "      <td>6</td>\n",
       "      <td>10</td>\n",
       "      <td>...</td>\n",
       "      <td>49</td>\n",
       "      <td>99</td>\n",
       "      <td>0</td>\n",
       "      <td>17</td>\n",
       "      <td>53</td>\n",
       "      <td>51</td>\n",
       "      <td>634</td>\n",
       "      <td>3</td>\n",
       "      <td>30</td>\n",
       "      <td>0</td>\n",
       "    </tr>\n",
       "  </tbody>\n",
       "</table>\n",
       "<p>95 rows × 2942 columns</p>\n",
       "</div>"
      ],
      "text/plain": [
       "    AARON  ABD  ABDALLAH  ABDEL  ABDELKADER  ABDELKARIM  ABDELLAH  ABDELMALIK  \\\n",
       "1     147    0         7      0           0           0         0           0   \n",
       "2     213    0         0      0           0           0         0           0   \n",
       "3     125    0         0      0           0           0         0           0   \n",
       "4      53    0         0      0           0           0         0           0   \n",
       "5      40    0         0      0           0           0         0           0   \n",
       "..    ...  ...       ...    ...         ...         ...       ...         ...   \n",
       "91    565    0        88     10           9           0         3           3   \n",
       "92    774   19       215     44          44           6        71           3   \n",
       "93    643   33       335     98         109          23        94          12   \n",
       "94    742    3       162     26          44           0        27           6   \n",
       "95    640    5       192     16          35           8        33           0   \n",
       "\n",
       "    ABDELRAHMAN  ABDERAHMANE  ...  ZEYNEB  ZEYNEP  ZIA  ZINA  ZINEB  ZOE  \\\n",
       "1             0            0  ...       3      17    0     0      3    9   \n",
       "2             0            0  ...       0       3    0     0      3   21   \n",
       "3             0            0  ...       0       0    0     0      0   20   \n",
       "4             0            0  ...       0       0    0     0      0    4   \n",
       "5             0            0  ...       0       0    0     0      0    7   \n",
       "..          ...          ...  ...     ...     ...  ...   ...    ...  ...   \n",
       "91            0            0  ...      15      61    6    10     29   25   \n",
       "92           10            3  ...      26       3   11    18     89   71   \n",
       "93           33           34  ...      92     113    0    42    130    6   \n",
       "94            3            6  ...      17      21    0     3     44   62   \n",
       "95            6           10  ...      49      99    0    17     53   51   \n",
       "\n",
       "     ZOÉ  ZOË  ZOHRA  ZOLA  \n",
       "1    253    0      0     0  \n",
       "2    504    0      0     0  \n",
       "3    246    0      0     0  \n",
       "4     38    0      0     0  \n",
       "5     97    0      0     0  \n",
       "..   ...  ...    ...   ...  \n",
       "91   666    0      8     3  \n",
       "92  1256    6     30     0  \n",
       "93   481    0     85     0  \n",
       "94   654    0     31     0  \n",
       "95   634    3     30     0  \n",
       "\n",
       "[95 rows x 2942 columns]"
      ]
     },
     "execution_count": 708,
     "metadata": {},
     "output_type": "execute_result"
    }
   ],
   "source": [
    "PRENOMS = pd.DataFrame(index = départements,columns = prénoms)\n",
    "for i in range(len(a)) :\n",
    "    dep = a.loc[i, \"dpt\"]\n",
    "    pren = a.loc[i, \"preusuel\"]\n",
    "    nb = a.loc[i, \"nombre\"]\n",
    "    PRENOMS.loc[dep,pren]=nb\n",
    "PRENOMS = PRENOMS.fillna(0) # NaN -> 0\n",
    "PRENOMS = PRENOMS.sort_index()\n",
    "PRENOMS"
   ]
  },
  {
   "cell_type": "markdown",
   "id": "3dad6410",
   "metadata": {},
   "source": [
    "## Traitement statistique"
   ]
  },
  {
   "cell_type": "markdown",
   "id": "d2e7178e",
   "metadata": {},
   "source": [
    "On standardise les données (centrées réduites)."
   ]
  },
  {
   "cell_type": "code",
   "execution_count": 709,
   "id": "00ffc12f",
   "metadata": {},
   "outputs": [],
   "source": [
    "scaler = StandardScaler()\n",
    "X = scaler.fit_transform(PRENOMS)"
   ]
  },
  {
   "cell_type": "markdown",
   "id": "c2a6e3e5",
   "metadata": {},
   "source": [
    "On opère l'ACP :"
   ]
  },
  {
   "cell_type": "code",
   "execution_count": 710,
   "id": "a778de01",
   "metadata": {},
   "outputs": [],
   "source": [
    "pca = PCA()\n",
    "components = pca.fit_transform(X)"
   ]
  },
  {
   "cell_type": "code",
   "execution_count": 717,
   "id": "13a4d4e9",
   "metadata": {},
   "outputs": [
    {
     "data": {
      "application/vnd.plotly.v1+json": {
       "config": {
        "plotlyServerURL": "https://plot.ly"
       },
       "data": [
        {
         "alignmentgroup": "True",
         "hovertemplate": "composante=%{x}<br>% variance expliquée=%{y}<extra></extra>",
         "legendgroup": "",
         "marker": {
          "color": "#1F77B4"
         },
         "name": "",
         "offsetgroup": "",
         "orientation": "v",
         "showlegend": false,
         "textposition": "auto",
         "type": "bar",
         "x": [
          1,
          2,
          3,
          4,
          5,
          6,
          7,
          8,
          9,
          10,
          11,
          12,
          13,
          14,
          15,
          16,
          17,
          18,
          19,
          20,
          21,
          22,
          23,
          24,
          25,
          26,
          27,
          28,
          29,
          30
         ],
         "xaxis": "x",
         "y": [
          0.5395068885552113,
          0.11756753790443936,
          0.07795092272981928,
          0.042488163056948115,
          0.03398323974147875,
          0.02547798842540282,
          0.0190292374598829,
          0.016103027811144227,
          0.013758425802538657,
          0.010756575883623849,
          0.009210778284111345,
          0.007874844191264316,
          0.0071100492715172525,
          0.006459481621931776,
          0.005946806945637034,
          0.005171958565842756,
          0.004639190513588884,
          0.0044587465803594736,
          0.00421729647413398,
          0.0038167170915506515,
          0.0031934220295509567,
          0.0030925643861709875,
          0.0027868234185028447,
          0.0025121264531530393,
          0.002300665672826908,
          0.00222386915724716,
          0.001975563459704045,
          0.0019141239975846616,
          0.001668346474133312,
          0.0015522698838852564
         ],
         "yaxis": "y"
        },
        {
         "name": "",
         "showlegend": false,
         "type": "scatter",
         "x": [
          1,
          2,
          3,
          4,
          5,
          6,
          7,
          8,
          9,
          10,
          11,
          12,
          13,
          14,
          15,
          16,
          17,
          18,
          19,
          20,
          21,
          22,
          23,
          24,
          25,
          26,
          27,
          28,
          29,
          30
         ],
         "y": [
          0.5395068885552113,
          0.6570744264596506,
          0.7350253491894699,
          0.7775135122464181,
          0.8114967519878968,
          0.8369747404132997,
          0.8560039778731826,
          0.8721070056843269,
          0.8858654314868655,
          0.8966220073704894,
          0.9058327856546007,
          0.913707629845865,
          0.9208176791173822,
          0.927277160739314,
          0.933223967684951,
          0.9383959262507937,
          0.9430351167643826,
          0.9474938633447421,
          0.951711159818876,
          0.9555278769104266,
          0.9587212989399776,
          0.9618138633261486,
          0.9646006867446515,
          0.9671128131978045,
          0.9694134788706315,
          0.9716373480278786,
          0.9736129114875827,
          0.9755270354851673,
          0.9771953819593006,
          0.9787476518431858
         ]
        }
       ],
       "layout": {
        "barmode": "relative",
        "legend": {
         "tracegroupgap": 0
        },
        "margin": {
         "t": 60
        },
        "template": {
         "data": {
          "scatter": [
           {
            "type": "scatter"
           }
          ]
         }
        },
        "xaxis": {
         "anchor": "y",
         "domain": [
          0,
          1
         ],
         "title": {
          "text": "composante"
         }
        },
        "yaxis": {
         "anchor": "x",
         "domain": [
          0,
          1
         ],
         "title": {
          "text": "% variance expliquée"
         }
        }
       }
      },
      "text/html": [
       "<div>                            <div id=\"f54947fa-a62e-424f-87b8-ee95f28de404\" class=\"plotly-graph-div\" style=\"height:525px; width:100%;\"></div>            <script type=\"text/javascript\">                require([\"plotly\"], function(Plotly) {                    window.PLOTLYENV=window.PLOTLYENV || {};                                    if (document.getElementById(\"f54947fa-a62e-424f-87b8-ee95f28de404\")) {                    Plotly.newPlot(                        \"f54947fa-a62e-424f-87b8-ee95f28de404\",                        [{\"alignmentgroup\": \"True\", \"hovertemplate\": \"composante=%{x}<br>% variance expliqu\\u00e9e=%{y}<extra></extra>\", \"legendgroup\": \"\", \"marker\": {\"color\": \"#1F77B4\"}, \"name\": \"\", \"offsetgroup\": \"\", \"orientation\": \"v\", \"showlegend\": false, \"textposition\": \"auto\", \"type\": \"bar\", \"x\": [1, 2, 3, 4, 5, 6, 7, 8, 9, 10, 11, 12, 13, 14, 15, 16, 17, 18, 19, 20, 21, 22, 23, 24, 25, 26, 27, 28, 29, 30], \"xaxis\": \"x\", \"y\": [0.5395068885552113, 0.11756753790443936, 0.07795092272981928, 0.042488163056948115, 0.03398323974147875, 0.02547798842540282, 0.0190292374598829, 0.016103027811144227, 0.013758425802538657, 0.010756575883623849, 0.009210778284111345, 0.007874844191264316, 0.0071100492715172525, 0.006459481621931776, 0.005946806945637034, 0.005171958565842756, 0.004639190513588884, 0.0044587465803594736, 0.00421729647413398, 0.0038167170915506515, 0.0031934220295509567, 0.0030925643861709875, 0.0027868234185028447, 0.0025121264531530393, 0.002300665672826908, 0.00222386915724716, 0.001975563459704045, 0.0019141239975846616, 0.001668346474133312, 0.0015522698838852564], \"yaxis\": \"y\"}, {\"name\": \"\", \"showlegend\": false, \"type\": \"scatter\", \"x\": [1, 2, 3, 4, 5, 6, 7, 8, 9, 10, 11, 12, 13, 14, 15, 16, 17, 18, 19, 20, 21, 22, 23, 24, 25, 26, 27, 28, 29, 30], \"y\": [0.5395068885552113, 0.6570744264596506, 0.7350253491894699, 0.7775135122464181, 0.8114967519878968, 0.8369747404132997, 0.8560039778731826, 0.8721070056843269, 0.8858654314868655, 0.8966220073704894, 0.9058327856546007, 0.913707629845865, 0.9208176791173822, 0.927277160739314, 0.933223967684951, 0.9383959262507937, 0.9430351167643826, 0.9474938633447421, 0.951711159818876, 0.9555278769104266, 0.9587212989399776, 0.9618138633261486, 0.9646006867446515, 0.9671128131978045, 0.9694134788706315, 0.9716373480278786, 0.9736129114875827, 0.9755270354851673, 0.9771953819593006, 0.9787476518431858]}],                        {\"barmode\": \"relative\", \"legend\": {\"tracegroupgap\": 0}, \"margin\": {\"t\": 60}, \"template\": {\"data\": {\"scatter\": [{\"type\": \"scatter\"}]}}, \"xaxis\": {\"anchor\": \"y\", \"domain\": [0.0, 1.0], \"title\": {\"text\": \"composante\"}}, \"yaxis\": {\"anchor\": \"x\", \"domain\": [0.0, 1.0], \"title\": {\"text\": \"% variance expliqu\\u00e9e\"}}},                        {\"responsive\": true}                    ).then(function(){\n",
       "                            \n",
       "var gd = document.getElementById('f54947fa-a62e-424f-87b8-ee95f28de404');\n",
       "var x = new MutationObserver(function (mutations, observer) {{\n",
       "        var display = window.getComputedStyle(gd).display;\n",
       "        if (!display || display === 'none') {{\n",
       "            console.log([gd, 'removed!']);\n",
       "            Plotly.purge(gd);\n",
       "            observer.disconnect();\n",
       "        }}\n",
       "}});\n",
       "\n",
       "// Listen for the removal of the full notebook cells\n",
       "var notebookContainer = gd.closest('#notebook-container');\n",
       "if (notebookContainer) {{\n",
       "    x.observe(notebookContainer, {childList: true});\n",
       "}}\n",
       "\n",
       "// Listen for the clearing of the current output cell\n",
       "var outputEl = gd.closest('.output');\n",
       "if (outputEl) {{\n",
       "    x.observe(outputEl, {childList: true});\n",
       "}}\n",
       "\n",
       "                        })                };                });            </script>        </div>"
      ]
     },
     "metadata": {},
     "output_type": "display_data"
    }
   ],
   "source": [
    "taille = 30 #exp_var_cumul.shape[0] + 1\n",
    "exp_var_cumul = np.cumsum(pca.explained_variance_ratio_)\n",
    "fig = px.bar(x=range(1, taille+1),y=pca.explained_variance_ratio_[:taille],labels={\"x\": \"composante\", \"y\": \"% variance expliquée\"},template=\"none\")\n",
    "fig.add_scatter(x=list(range(1, taille+1)), y=exp_var_cumul[:taille], name=\"\", showlegend=False)"
   ]
  },
  {
   "cell_type": "markdown",
   "id": "8580ce84",
   "metadata": {},
   "source": [
    "On va garder 15 composantes :"
   ]
  },
  {
   "cell_type": "code",
   "execution_count": 718,
   "id": "bec467b6",
   "metadata": {},
   "outputs": [],
   "source": [
    "nb_c = 15\n",
    "pca = PCA(n_components = nb_c)\n",
    "pca.fit(X)\n",
    "score_pca = pca.transform(X)"
   ]
  },
  {
   "cell_type": "code",
   "execution_count": 719,
   "id": "91d04b5b",
   "metadata": {},
   "outputs": [
    {
     "data": {
      "text/html": [
       "<div>\n",
       "<style scoped>\n",
       "    .dataframe tbody tr th:only-of-type {\n",
       "        vertical-align: middle;\n",
       "    }\n",
       "\n",
       "    .dataframe tbody tr th {\n",
       "        vertical-align: top;\n",
       "    }\n",
       "\n",
       "    .dataframe thead th {\n",
       "        text-align: right;\n",
       "    }\n",
       "</style>\n",
       "<table border=\"1\" class=\"dataframe\">\n",
       "  <thead>\n",
       "    <tr style=\"text-align: right;\">\n",
       "      <th></th>\n",
       "      <th>AARON</th>\n",
       "      <th>ABD</th>\n",
       "      <th>ABDALLAH</th>\n",
       "      <th>ABDEL</th>\n",
       "      <th>ABDELKADER</th>\n",
       "      <th>ABDELKARIM</th>\n",
       "      <th>ABDELLAH</th>\n",
       "      <th>ABDELMALIK</th>\n",
       "      <th>ABDELRAHMAN</th>\n",
       "      <th>ABDERAHMANE</th>\n",
       "      <th>...</th>\n",
       "      <th>composante 6</th>\n",
       "      <th>composante 7</th>\n",
       "      <th>composante 8</th>\n",
       "      <th>composante 9</th>\n",
       "      <th>composante 10</th>\n",
       "      <th>composante 11</th>\n",
       "      <th>composante 12</th>\n",
       "      <th>composante 13</th>\n",
       "      <th>composante 14</th>\n",
       "      <th>composante 15</th>\n",
       "    </tr>\n",
       "  </thead>\n",
       "  <tbody>\n",
       "    <tr>\n",
       "      <th>1</th>\n",
       "      <td>147</td>\n",
       "      <td>0</td>\n",
       "      <td>7</td>\n",
       "      <td>0</td>\n",
       "      <td>0</td>\n",
       "      <td>0</td>\n",
       "      <td>0</td>\n",
       "      <td>0</td>\n",
       "      <td>0</td>\n",
       "      <td>0</td>\n",
       "      <td>...</td>\n",
       "      <td>4.904170</td>\n",
       "      <td>0.627323</td>\n",
       "      <td>-1.864113</td>\n",
       "      <td>0.022727</td>\n",
       "      <td>0.007959</td>\n",
       "      <td>-0.028706</td>\n",
       "      <td>-0.489888</td>\n",
       "      <td>-0.331315</td>\n",
       "      <td>-0.464141</td>\n",
       "      <td>-0.707771</td>\n",
       "    </tr>\n",
       "    <tr>\n",
       "      <th>2</th>\n",
       "      <td>213</td>\n",
       "      <td>0</td>\n",
       "      <td>0</td>\n",
       "      <td>0</td>\n",
       "      <td>0</td>\n",
       "      <td>0</td>\n",
       "      <td>0</td>\n",
       "      <td>0</td>\n",
       "      <td>0</td>\n",
       "      <td>0</td>\n",
       "      <td>...</td>\n",
       "      <td>1.251518</td>\n",
       "      <td>-1.647001</td>\n",
       "      <td>0.716498</td>\n",
       "      <td>-2.234743</td>\n",
       "      <td>-2.010880</td>\n",
       "      <td>-1.966772</td>\n",
       "      <td>-1.149985</td>\n",
       "      <td>-1.747221</td>\n",
       "      <td>2.652145</td>\n",
       "      <td>1.802088</td>\n",
       "    </tr>\n",
       "    <tr>\n",
       "      <th>3</th>\n",
       "      <td>125</td>\n",
       "      <td>0</td>\n",
       "      <td>0</td>\n",
       "      <td>0</td>\n",
       "      <td>0</td>\n",
       "      <td>0</td>\n",
       "      <td>0</td>\n",
       "      <td>0</td>\n",
       "      <td>0</td>\n",
       "      <td>0</td>\n",
       "      <td>...</td>\n",
       "      <td>0.127462</td>\n",
       "      <td>1.254370</td>\n",
       "      <td>0.263988</td>\n",
       "      <td>-0.665953</td>\n",
       "      <td>-0.830650</td>\n",
       "      <td>-0.476038</td>\n",
       "      <td>-1.022303</td>\n",
       "      <td>-0.039688</td>\n",
       "      <td>0.285303</td>\n",
       "      <td>-0.171851</td>\n",
       "    </tr>\n",
       "  </tbody>\n",
       "</table>\n",
       "<p>3 rows × 2957 columns</p>\n",
       "</div>"
      ],
      "text/plain": [
       "   AARON  ABD  ABDALLAH  ABDEL  ABDELKADER  ABDELKARIM  ABDELLAH  ABDELMALIK  \\\n",
       "1    147    0         7      0           0           0         0           0   \n",
       "2    213    0         0      0           0           0         0           0   \n",
       "3    125    0         0      0           0           0         0           0   \n",
       "\n",
       "   ABDELRAHMAN  ABDERAHMANE  ...  composante 6  composante 7  composante 8  \\\n",
       "1            0            0  ...      4.904170      0.627323     -1.864113   \n",
       "2            0            0  ...      1.251518     -1.647001      0.716498   \n",
       "3            0            0  ...      0.127462      1.254370      0.263988   \n",
       "\n",
       "   composante 9  composante 10  composante 11  composante 12  composante 13  \\\n",
       "1      0.022727       0.007959      -0.028706      -0.489888      -0.331315   \n",
       "2     -2.234743      -2.010880      -1.966772      -1.149985      -1.747221   \n",
       "3     -0.665953      -0.830650      -0.476038      -1.022303      -0.039688   \n",
       "\n",
       "   composante 14  composante 15  \n",
       "1      -0.464141      -0.707771  \n",
       "2       2.652145       1.802088  \n",
       "3       0.285303      -0.171851  \n",
       "\n",
       "[3 rows x 2957 columns]"
      ]
     },
     "execution_count": 719,
     "metadata": {},
     "output_type": "execute_result"
    }
   ],
   "source": [
    "PRENOMS[[f\"composante {i}\" for i in range(1,nb_c+1)]] = pd.DataFrame(score_pca, index=PRENOMS.index)\n",
    "PRENOMS.head(3)"
   ]
  },
  {
   "cell_type": "code",
   "execution_count": 720,
   "id": "4308bf7d",
   "metadata": {},
   "outputs": [
    {
     "data": {
      "text/html": [
       "<div>\n",
       "<style scoped>\n",
       "    .dataframe tbody tr th:only-of-type {\n",
       "        vertical-align: middle;\n",
       "    }\n",
       "\n",
       "    .dataframe tbody tr th {\n",
       "        vertical-align: top;\n",
       "    }\n",
       "\n",
       "    .dataframe thead th {\n",
       "        text-align: right;\n",
       "    }\n",
       "</style>\n",
       "<table border=\"1\" class=\"dataframe\">\n",
       "  <thead>\n",
       "    <tr style=\"text-align: right;\">\n",
       "      <th></th>\n",
       "      <th>composante 1</th>\n",
       "      <th>composante 2</th>\n",
       "      <th>composante 3</th>\n",
       "      <th>composante 4</th>\n",
       "      <th>composante 5</th>\n",
       "      <th>composante 6</th>\n",
       "      <th>composante 7</th>\n",
       "      <th>composante 8</th>\n",
       "      <th>composante 9</th>\n",
       "      <th>composante 10</th>\n",
       "      <th>composante 11</th>\n",
       "      <th>composante 12</th>\n",
       "      <th>composante 13</th>\n",
       "      <th>composante 14</th>\n",
       "      <th>composante 15</th>\n",
       "    </tr>\n",
       "  </thead>\n",
       "  <tbody>\n",
       "    <tr>\n",
       "      <th>AARON</th>\n",
       "      <td>0.024015</td>\n",
       "      <td>0.004143</td>\n",
       "      <td>0.004144</td>\n",
       "      <td>0.010984</td>\n",
       "      <td>0.006290</td>\n",
       "      <td>-0.008191</td>\n",
       "      <td>-0.020284</td>\n",
       "      <td>0.003989</td>\n",
       "      <td>-0.012996</td>\n",
       "      <td>-0.000120</td>\n",
       "      <td>-0.001490</td>\n",
       "      <td>-0.004113</td>\n",
       "      <td>-0.015975</td>\n",
       "      <td>-0.005477</td>\n",
       "      <td>0.003826</td>\n",
       "    </tr>\n",
       "    <tr>\n",
       "      <th>ABD</th>\n",
       "      <td>0.017777</td>\n",
       "      <td>-0.010667</td>\n",
       "      <td>-0.015103</td>\n",
       "      <td>0.031208</td>\n",
       "      <td>-0.009673</td>\n",
       "      <td>0.010674</td>\n",
       "      <td>0.053574</td>\n",
       "      <td>-0.009021</td>\n",
       "      <td>0.017447</td>\n",
       "      <td>-0.039982</td>\n",
       "      <td>-0.005384</td>\n",
       "      <td>-0.002190</td>\n",
       "      <td>0.002042</td>\n",
       "      <td>0.008347</td>\n",
       "      <td>0.027480</td>\n",
       "    </tr>\n",
       "    <tr>\n",
       "      <th>ABDALLAH</th>\n",
       "      <td>0.021639</td>\n",
       "      <td>-0.007107</td>\n",
       "      <td>-0.024735</td>\n",
       "      <td>0.001429</td>\n",
       "      <td>0.004410</td>\n",
       "      <td>0.005924</td>\n",
       "      <td>0.032529</td>\n",
       "      <td>0.017916</td>\n",
       "      <td>0.002680</td>\n",
       "      <td>-0.009908</td>\n",
       "      <td>-0.009708</td>\n",
       "      <td>-0.004893</td>\n",
       "      <td>0.018293</td>\n",
       "      <td>-0.001215</td>\n",
       "      <td>0.010934</td>\n",
       "    </tr>\n",
       "    <tr>\n",
       "      <th>ABDEL</th>\n",
       "      <td>0.020640</td>\n",
       "      <td>-0.010718</td>\n",
       "      <td>-0.021151</td>\n",
       "      <td>0.010441</td>\n",
       "      <td>-0.008467</td>\n",
       "      <td>-0.002415</td>\n",
       "      <td>0.039064</td>\n",
       "      <td>-0.013006</td>\n",
       "      <td>0.017598</td>\n",
       "      <td>-0.025287</td>\n",
       "      <td>0.003398</td>\n",
       "      <td>-0.003688</td>\n",
       "      <td>0.016510</td>\n",
       "      <td>0.012652</td>\n",
       "      <td>0.016085</td>\n",
       "    </tr>\n",
       "    <tr>\n",
       "      <th>ABDELKADER</th>\n",
       "      <td>0.020154</td>\n",
       "      <td>-0.003842</td>\n",
       "      <td>-0.026425</td>\n",
       "      <td>0.020619</td>\n",
       "      <td>-0.016500</td>\n",
       "      <td>-0.014444</td>\n",
       "      <td>0.016860</td>\n",
       "      <td>-0.015498</td>\n",
       "      <td>0.011023</td>\n",
       "      <td>-0.003844</td>\n",
       "      <td>0.015668</td>\n",
       "      <td>-0.007069</td>\n",
       "      <td>0.026069</td>\n",
       "      <td>0.005066</td>\n",
       "      <td>0.017825</td>\n",
       "    </tr>\n",
       "    <tr>\n",
       "      <th>...</th>\n",
       "      <td>...</td>\n",
       "      <td>...</td>\n",
       "      <td>...</td>\n",
       "      <td>...</td>\n",
       "      <td>...</td>\n",
       "      <td>...</td>\n",
       "      <td>...</td>\n",
       "      <td>...</td>\n",
       "      <td>...</td>\n",
       "      <td>...</td>\n",
       "      <td>...</td>\n",
       "      <td>...</td>\n",
       "      <td>...</td>\n",
       "      <td>...</td>\n",
       "      <td>...</td>\n",
       "    </tr>\n",
       "    <tr>\n",
       "      <th>ZOE</th>\n",
       "      <td>0.015740</td>\n",
       "      <td>0.008345</td>\n",
       "      <td>0.014384</td>\n",
       "      <td>0.027580</td>\n",
       "      <td>-0.021507</td>\n",
       "      <td>-0.013575</td>\n",
       "      <td>-0.043758</td>\n",
       "      <td>-0.016552</td>\n",
       "      <td>-0.005913</td>\n",
       "      <td>-0.019247</td>\n",
       "      <td>0.020337</td>\n",
       "      <td>-0.013307</td>\n",
       "      <td>0.083600</td>\n",
       "      <td>-0.003329</td>\n",
       "      <td>0.044890</td>\n",
       "    </tr>\n",
       "    <tr>\n",
       "      <th>ZOÉ</th>\n",
       "      <td>0.020762</td>\n",
       "      <td>0.023036</td>\n",
       "      <td>0.017805</td>\n",
       "      <td>-0.005954</td>\n",
       "      <td>0.008413</td>\n",
       "      <td>0.013783</td>\n",
       "      <td>-0.006931</td>\n",
       "      <td>0.001943</td>\n",
       "      <td>0.004636</td>\n",
       "      <td>-0.007560</td>\n",
       "      <td>0.008972</td>\n",
       "      <td>0.000740</td>\n",
       "      <td>-0.013214</td>\n",
       "      <td>0.020817</td>\n",
       "      <td>0.003425</td>\n",
       "    </tr>\n",
       "    <tr>\n",
       "      <th>ZOË</th>\n",
       "      <td>0.015661</td>\n",
       "      <td>0.025482</td>\n",
       "      <td>0.019922</td>\n",
       "      <td>-0.024200</td>\n",
       "      <td>-0.014648</td>\n",
       "      <td>-0.009060</td>\n",
       "      <td>0.003207</td>\n",
       "      <td>-0.012417</td>\n",
       "      <td>0.007098</td>\n",
       "      <td>0.007881</td>\n",
       "      <td>0.005943</td>\n",
       "      <td>-0.000081</td>\n",
       "      <td>0.020523</td>\n",
       "      <td>-0.005150</td>\n",
       "      <td>-0.004001</td>\n",
       "    </tr>\n",
       "    <tr>\n",
       "      <th>ZOHRA</th>\n",
       "      <td>0.022572</td>\n",
       "      <td>-0.004048</td>\n",
       "      <td>-0.018021</td>\n",
       "      <td>0.002311</td>\n",
       "      <td>-0.010355</td>\n",
       "      <td>-0.002523</td>\n",
       "      <td>0.026906</td>\n",
       "      <td>-0.017962</td>\n",
       "      <td>0.013838</td>\n",
       "      <td>-0.017868</td>\n",
       "      <td>-0.004857</td>\n",
       "      <td>-0.006371</td>\n",
       "      <td>0.016142</td>\n",
       "      <td>-0.004050</td>\n",
       "      <td>0.015054</td>\n",
       "    </tr>\n",
       "    <tr>\n",
       "      <th>ZOLA</th>\n",
       "      <td>0.008961</td>\n",
       "      <td>0.031733</td>\n",
       "      <td>0.015410</td>\n",
       "      <td>-0.030224</td>\n",
       "      <td>-0.004550</td>\n",
       "      <td>0.005176</td>\n",
       "      <td>-0.018739</td>\n",
       "      <td>-0.005483</td>\n",
       "      <td>-0.009197</td>\n",
       "      <td>-0.047276</td>\n",
       "      <td>0.002704</td>\n",
       "      <td>0.014485</td>\n",
       "      <td>-0.021155</td>\n",
       "      <td>0.056239</td>\n",
       "      <td>0.001131</td>\n",
       "    </tr>\n",
       "  </tbody>\n",
       "</table>\n",
       "<p>2942 rows × 15 columns</p>\n",
       "</div>"
      ],
      "text/plain": [
       "            composante 1  composante 2  composante 3  composante 4  \\\n",
       "AARON           0.024015      0.004143      0.004144      0.010984   \n",
       "ABD             0.017777     -0.010667     -0.015103      0.031208   \n",
       "ABDALLAH        0.021639     -0.007107     -0.024735      0.001429   \n",
       "ABDEL           0.020640     -0.010718     -0.021151      0.010441   \n",
       "ABDELKADER      0.020154     -0.003842     -0.026425      0.020619   \n",
       "...                  ...           ...           ...           ...   \n",
       "ZOE             0.015740      0.008345      0.014384      0.027580   \n",
       "ZOÉ             0.020762      0.023036      0.017805     -0.005954   \n",
       "ZOË             0.015661      0.025482      0.019922     -0.024200   \n",
       "ZOHRA           0.022572     -0.004048     -0.018021      0.002311   \n",
       "ZOLA            0.008961      0.031733      0.015410     -0.030224   \n",
       "\n",
       "            composante 5  composante 6  composante 7  composante 8  \\\n",
       "AARON           0.006290     -0.008191     -0.020284      0.003989   \n",
       "ABD            -0.009673      0.010674      0.053574     -0.009021   \n",
       "ABDALLAH        0.004410      0.005924      0.032529      0.017916   \n",
       "ABDEL          -0.008467     -0.002415      0.039064     -0.013006   \n",
       "ABDELKADER     -0.016500     -0.014444      0.016860     -0.015498   \n",
       "...                  ...           ...           ...           ...   \n",
       "ZOE            -0.021507     -0.013575     -0.043758     -0.016552   \n",
       "ZOÉ             0.008413      0.013783     -0.006931      0.001943   \n",
       "ZOË            -0.014648     -0.009060      0.003207     -0.012417   \n",
       "ZOHRA          -0.010355     -0.002523      0.026906     -0.017962   \n",
       "ZOLA           -0.004550      0.005176     -0.018739     -0.005483   \n",
       "\n",
       "            composante 9  composante 10  composante 11  composante 12  \\\n",
       "AARON          -0.012996      -0.000120      -0.001490      -0.004113   \n",
       "ABD             0.017447      -0.039982      -0.005384      -0.002190   \n",
       "ABDALLAH        0.002680      -0.009908      -0.009708      -0.004893   \n",
       "ABDEL           0.017598      -0.025287       0.003398      -0.003688   \n",
       "ABDELKADER      0.011023      -0.003844       0.015668      -0.007069   \n",
       "...                  ...            ...            ...            ...   \n",
       "ZOE            -0.005913      -0.019247       0.020337      -0.013307   \n",
       "ZOÉ             0.004636      -0.007560       0.008972       0.000740   \n",
       "ZOË             0.007098       0.007881       0.005943      -0.000081   \n",
       "ZOHRA           0.013838      -0.017868      -0.004857      -0.006371   \n",
       "ZOLA           -0.009197      -0.047276       0.002704       0.014485   \n",
       "\n",
       "            composante 13  composante 14  composante 15  \n",
       "AARON           -0.015975      -0.005477       0.003826  \n",
       "ABD              0.002042       0.008347       0.027480  \n",
       "ABDALLAH         0.018293      -0.001215       0.010934  \n",
       "ABDEL            0.016510       0.012652       0.016085  \n",
       "ABDELKADER       0.026069       0.005066       0.017825  \n",
       "...                   ...            ...            ...  \n",
       "ZOE              0.083600      -0.003329       0.044890  \n",
       "ZOÉ             -0.013214       0.020817       0.003425  \n",
       "ZOË              0.020523      -0.005150      -0.004001  \n",
       "ZOHRA            0.016142      -0.004050       0.015054  \n",
       "ZOLA            -0.021155       0.056239       0.001131  \n",
       "\n",
       "[2942 rows x 15 columns]"
      ]
     },
     "execution_count": 720,
     "metadata": {},
     "output_type": "execute_result"
    }
   ],
   "source": [
    "decomp = pd.DataFrame(pca.components_.T, columns=[f\"composante {i}\" for i in range(1,nb_c+1)], index=PRENOMS.columns.values[:-nb_c])\n",
    "decomp"
   ]
  },
  {
   "cell_type": "markdown",
   "id": "d4f2995e",
   "metadata": {},
   "source": [
    "Fonction permettant l'affichage des premiers et derniers prénoms sur une composante donnée :"
   ]
  },
  {
   "cell_type": "code",
   "execution_count": 722,
   "id": "ee369e5f",
   "metadata": {},
   "outputs": [],
   "source": [
    "def recap(composante) :\n",
    "    i_comp = composante\n",
    "    nb_prenoms = 100\n",
    "    indices = indices = [i+j*100 for j in range(4) for i in range(10)]\n",
    "    tab_recap = pd.DataFrame(index = indices,columns = [\"premiers\",\"valeur+\",\"derniers\",\"valeur-\"])\n",
    "    tri_haut = decomp.sort_values(by= f\"composante {i_comp}\",ascending=False)\n",
    "    tri_bas = decomp.sort_values(by= f\"composante {i_comp}\",ascending=True)\n",
    "    for i in indices :\n",
    "        tab_recap.loc[i,\"premiers\"] = tri_haut.index[i]\n",
    "        tab_recap.loc[i,\"valeur+\"] = tri_haut.iloc[i,i_comp-1]\n",
    "        tab_recap.loc[i,\"derniers\"] = tri_bas.index[i]\n",
    "        tab_recap.loc[i,\"valeur-\"] = tri_bas.iloc[i,i_comp-1]\n",
    "    return tab_recap"
   ]
  },
  {
   "cell_type": "markdown",
   "id": "e528f16c",
   "metadata": {},
   "source": [
    "## Affichage sur une carte"
   ]
  },
  {
   "cell_type": "markdown",
   "id": "7b0ed97b",
   "metadata": {},
   "source": [
    "Récupération et toilettage des données géographiques :"
   ]
  },
  {
   "cell_type": "code",
   "execution_count": 723,
   "id": "e41e6964",
   "metadata": {},
   "outputs": [
    {
     "data": {
      "image/svg+xml": [
       "<svg xmlns=\"http://www.w3.org/2000/svg\" xmlns:xlink=\"http://www.w3.org/1999/xlink\" width=\"100.0\" height=\"100.0\" viewBox=\"8.47412017014434 41.29618240590824 1.1510884724250197 1.7815240063825186\" preserveAspectRatio=\"xMinYMin meet\"><g transform=\"matrix(1,0,0,-1,0,84.37388881819899)\"><g><path fill-rule=\"evenodd\" fill=\"#66cc99\" stroke=\"#555555\" stroke-width=\"0.035630480127650375\" opacity=\"0.6\" d=\"M 9.2710321280228,41.364959299521 L 9.265698545799,41.362164776515 L 9.2558829669799,41.368794222327 L 9.2602446048541,41.373651229899 L 9.273659440522,41.369221791575 L 9.2710321280228,41.364959299521 z\" /><path fill-rule=\"evenodd\" fill=\"#66cc99\" stroke=\"#555555\" stroke-width=\"0.035630480127650375\" opacity=\"0.6\" d=\"M 9.4022711090103,41.858701678165 L 9.4020526477352,41.845844224512 L 9.4062743560399,41.822363784172 L 9.3941343569793,41.79894215528 L 9.3991901775403,41.790143164158 L 9.3981451175547,41.778459013889 L 9.4073217319481,41.767634723217 L 9.4052716742874,41.754575654188 L 9.4062185485145,41.73920137245 L 9.4013418072307,41.716959615945 L 9.4035331655531,41.710840198665 L 9.3998192801504,41.69279867 L 9.3810879581743,41.688001244821 L 9.3723006750494,41.678830164331 L 9.3757375815574,41.670619677977 L 9.3874913966427,41.657359062003 L 9.3850563977806,41.652970458201 L 9.3644131875031,41.636179025769 L 9.3547387700685,41.640710164794 L 9.3476012746477,41.636632418311 L 9.3463932296058,41.63002302864 L 9.3538271659327,41.626632801378 L 9.3463550313306,41.617508503613 L 9.3367416523086,41.621538780451 L 9.3272049926403,41.616356949796 L 9.3082365328383,41.628487552777 L 9.3060190567968,41.617470193836 L 9.2970016566957,41.610930362027 L 9.2883407858234,41.609067528624 L 9.2825337896991,41.596415718545 L 9.286354138341,41.589453101103 L 9.2956793037693,41.583322361133 L 9.3083814880745,41.593972713908 L 9.3130806771213,41.601132392709 L 9.3215169876122,41.604837299741 L 9.3350988345063,41.602027547324 L 9.3470681679656,41.594390886207 L 9.3685744931696,41.596897302353 L 9.3533825795291,41.577938443543 L 9.3481742396925,41.575388818689 L 9.3501715740997,41.566187005133 L 9.3408997155844,41.559241730325 L 9.3239922254982,41.557236366366 L 9.3023216696934,41.545198419563 L 9.2875574726946,41.530228755368 L 9.2730739945179,41.53019271867 L 9.273680106865,41.522517947178 L 9.2839183612598,41.520450085063 L 9.277308421099,41.506124986587 L 9.2688973149711,41.501624751876 L 9.2759308530555,41.49643713783 L 9.2876523998677,41.494831125938 L 9.28400186333,41.477572296911 L 9.2772722837641,41.475358221151 L 9.2777164179139,41.46495547492 L 9.2658821075424,41.465995458816 L 9.2429445240833,41.446705574174 L 9.223954267893,41.442488841516 L 9.2232723456115,41.436025985419 L 9.2288969116275,41.425302049177 L 9.2281191406951,41.409110517705 L 9.2442363338799,41.421181163353 L 9.2651023772974,41.428283396377 L 9.2591670709159,41.413375395828 L 9.2507254948685,41.40960553083 L 9.2361643789523,41.393559251695 L 9.2331233905073,41.386560178849 L 9.2214883823877,41.376328969738 L 9.2196789477427,41.368211945774 L 9.1988058887608,41.36588583439 L 9.1803693126024,41.366438293705 L 9.1743707764701,41.379329284074 L 9.1672444080415,41.385592973955 L 9.1446146072237,41.387183678065 L 9.1208631045283,41.39644315535 L 9.0938398987455,41.393839319394 L 9.0911719516959,41.401806079279 L 9.0955320043022,41.412431710561 L 9.1089222562469,41.419940163471 L 9.1043469551733,41.425502848125 L 9.120687595476,41.437616309687 L 9.1192193922242,41.440772011484 L 9.0994499566209,41.442768149338 L 9.0935832833779,41.449719424027 L 9.0822010138671,41.441973884937 L 9.0743134372406,41.442920620722 L 9.0664301578555,41.451023602972 L 9.0704320220003,41.466940562623 L 9.070286926691,41.475671427311 L 9.0508357375037,41.459641860478 L 9.0382611446596,41.459645198212 L 9.0180268691937,41.467748490519 L 9.0128843778786,41.476121872495 L 9.0021701866201,41.475774397275 L 8.9928461630234,41.485396435585 L 8.9808637276524,41.479330164884 L 8.9594585113313,41.492130159311 L 8.938402541315,41.48966848731 L 8.9317877201954,41.495378064347 L 8.9210126230225,41.497499034287 L 8.9147467175153,41.507208151354 L 8.9001835704243,41.508774219762 L 8.8846150462285,41.50507236925 L 8.8820378648188,41.509239075837 L 8.8882614285546,41.51707992067 L 8.8778100883194,41.523794452944 L 8.865369828875,41.520128455719 L 8.8450740207766,41.517958079633 L 8.8414047053005,41.523766509681 L 8.8519237231626,41.533233974908 L 8.8511877593354,41.540860979943 L 8.8416810361388,41.546552827363 L 8.8229182141785,41.546156093531 L 8.814890471805,41.553906217363 L 8.7885345993036,41.557735921446 L 8.7854932407521,41.563658878459 L 8.8019653365352,41.5725251973 L 8.7827891492503,41.585681206952 L 8.7771927389114,41.592763979819 L 8.7839015050151,41.59639969226 L 8.7909467331176,41.608501287066 L 8.7930767849103,41.629554383445 L 8.8024752261462,41.633221115876 L 8.8217796251471,41.630090136165 L 8.8265171763194,41.635951775657 L 8.8540761012096,41.647017321432 L 8.8695009599086,41.646091120096 L 8.877264032596,41.652454617448 L 8.8809129542854,41.668095186004 L 8.8928931495104,41.674100351332 L 8.9080176286522,41.677007881852 L 8.9153277451781,41.681282755136 L 8.9145075925891,41.689723682063 L 8.8856557174325,41.690849961129 L 8.8782882421796,41.695973169993 L 8.8412808961089,41.697551641036 L 8.8302939411387,41.706262922095 L 8.8127122072851,41.714129905775 L 8.7937675276411,41.707893097781 L 8.7729726652092,41.711919063255 L 8.7845453570537,41.731664815454 L 8.7800237021371,41.739414158852 L 8.7724546247573,41.741517274673 L 8.7600821507981,41.738380383757 L 8.7366474883573,41.729424936258 L 8.7254848567332,41.727545668736 L 8.7172417233064,41.722774526354 L 8.7030325607564,41.726005824599 L 8.7076082107898,41.73618560032 L 8.6976380199228,41.741319354452 L 8.6820097937715,41.739918393262 L 8.6717700658097,41.743688167428 L 8.6585643232553,41.741804670222 L 8.6597494147728,41.749463503232 L 8.6682797961785,41.752894642014 L 8.6845169668936,41.747002332036 L 8.7044093153393,41.757890543543 L 8.7131431683495,41.760833582026 L 8.7300880504804,41.77591212379 L 8.7271678055689,41.78708867668 L 8.7195718291105,41.788893754962 L 8.7212499540158,41.797809382794 L 8.7409410916134,41.79868785997 L 8.7482572136005,41.810823729007 L 8.7575460129466,41.80895026474 L 8.7712959607968,41.811239419914 L 8.7747951360312,41.82504031127 L 8.7820652523774,41.833703364592 L 8.7708086871301,41.836461210042 L 8.767794604169,41.845931092466 L 8.7841001717388,41.848170286407 L 8.7906166495097,41.855520792589 L 8.7902752705309,41.866416605405 L 8.781211947867,41.880668839163 L 8.8031333721604,41.891381047926 L 8.795661885825,41.908865779323 L 8.7858171453796,41.920265738823 L 8.7726394721087,41.927375596769 L 8.7608963047658,41.924460972208 L 8.7549076702854,41.932565729457 L 8.745110539203,41.933164242485 L 8.7399479222249,41.928307210691 L 8.7410637125693,41.91754841615 L 8.7310370715364,41.915900103573 L 8.7214300448374,41.909256183947 L 8.7032845356386,41.907630033647 L 8.6868554085917,41.90859416785 L 8.6704582677272,41.905060573018 L 8.6643099502431,41.907384856241 L 8.6414501138477,41.909889243142 L 8.6149322619016,41.902346804089 L 8.610306446193,41.913050837853 L 8.6218879056671,41.927827389358 L 8.6207764177835,41.939541948075 L 8.6089998541718,41.940155623683 L 8.6056928687397,41.951055349782 L 8.5976997733316,41.953238328668 L 8.5958844509261,41.9660969095 L 8.6148401371518,41.971330910765 L 8.6390210889529,41.967471298128 L 8.6460663299246,41.968130756625 L 8.6688781676627,41.982429503353 L 8.6684592293729,41.991610798065 L 8.6575664515333,41.993436712754 L 8.6564246405607,42.009345707145 L 8.66801032159,42.017457160521 L 8.6903254906641,42.027593059646 L 8.702011655943,42.026639132045 L 8.7253458869114,42.034356688034 L 8.7226820538602,42.042540055616 L 8.741329138221,42.040912179268 L 8.7469869224827,42.0502108539 L 8.7391608385257,42.062698609291 L 8.7198555560589,42.06351093709 L 8.7203352966306,42.069442470516 L 8.7147668279995,42.08153861531 L 8.7047370379813,42.087940049587 L 8.7102579733595,42.095822368407 L 8.7002490365492,42.10604379347 L 8.6999858627077,42.112515614544 L 8.6891550495107,42.115105402635 L 8.680727946306,42.105996814848 L 8.6712597688232,42.107107181013 L 8.6605028767172,42.103588496488 L 8.6470086216948,42.121131891644 L 8.6374753377432,42.11976700426 L 8.6256340976664,42.122670550852 L 8.6099541503765,42.1345450022 L 8.5958860094781,42.13025896889 L 8.5825175645431,42.129323208282 L 8.5849834154329,42.135866535707 L 8.5939572487287,42.143185234803 L 8.5897456767979,42.149152267892 L 8.5774733357997,42.156554543452 L 8.5901738822205,42.163884812642 L 8.5884884100621,42.171421188299 L 8.5682188559922,42.169017173529 L 8.5654392505696,42.177332135912 L 8.582879148895,42.178547241363 L 8.578217141654,42.188551889364 L 8.5813855583817,42.205939854644 L 8.5696750552871,42.2080024677 L 8.5753209823783,42.216374212666 L 8.567135591097,42.219577195648 L 8.5735416635984,42.225839882474 L 8.5703414705341,42.230300843511 L 8.5481905843276,42.228905913957 L 8.5401025407511,42.234990759489 L 8.5492440260065,42.239976932275 L 8.5561122651665,42.236039038782 L 8.5731170667844,42.238745320634 L 8.578263306898,42.244253414861 L 8.5893237006741,42.24450377404 L 8.616717053661,42.255458016475 L 8.6267416458828,42.25175456083 L 8.6418418463671,42.256428059655 L 8.6655881496278,42.259320114998 L 8.6715712790019,42.262059482484 L 8.6891048520685,42.263527621966 L 8.6901226204434,42.278207035825 L 8.6759776798364,42.283615563315 L 8.67395545525,42.294337194236 L 8.660571343066,42.302118549571 L 8.6486515166656,42.302732559447 L 8.639933499141,42.299416084547 L 8.6255148911749,42.312261962884 L 8.6103565562315,42.308394659111 L 8.5974331518027,42.316054932892 L 8.6046294578781,42.322652105253 L 8.6215546415518,42.327510035659 L 8.6279955733531,42.332296015498 L 8.6264440528796,42.340241753638 L 8.6182826215658,42.340701534987 L 8.6002435360509,42.352999825029 L 8.5915444423808,42.352772156997 L 8.5815591608145,42.347468214352 L 8.5738501697388,42.338412964424 L 8.5648822039848,42.333214755035 L 8.5533077910528,42.333031073096 L 8.5588034162198,42.343784641612 L 8.5517937879479,42.347375798384 L 8.5558846856209,42.364749965739 L 8.5432048758181,42.367016637162 L 8.547948004985,42.379354824713 L 8.5575710562857,42.370756414133 L 8.5666906484566,42.370692862461 L 8.5783059458289,42.375541718692 L 8.5734085639674,42.381404942274 L 8.5851262589954,42.38532518234 L 8.5962264339561,42.382398762993 L 8.6088441270775,42.386379953813 L 8.6022869184152,42.400052818571 L 8.6116794771433,42.403198147717 L 8.6040429146329,42.409512946067 L 8.6084169092937,42.416822082277 L 8.6234377365159,42.421017847031 L 8.6393957751413,42.418519567154 L 8.6481082467376,42.413119060137 L 8.6552300368167,42.415734337364 L 8.6622200218125,42.426291905255 L 8.6604105317327,42.43528280362 L 8.6482384069515,42.442410807187 L 8.6673206951673,42.444883992318 L 8.6681439215198,42.45801303094 L 8.6798297088815,42.468113820166 L 8.6747918186735,42.476242956982 L 8.6492357429259,42.474309683953 L 8.6499303561134,42.478239958239 L 8.6645502904805,42.49299417376 L 8.6665085981229,42.515223865295 L 8.6748420529906,42.518622461042 L 8.6837613976392,42.516458985462 L 8.6968431485562,42.525583517795 L 8.7104476758167,42.523703513378 L 8.7186158657164,42.528245234685 L 8.7102577314429,42.535723624921 L 8.7189524706419,42.540795175147 L 8.7166314657641,42.549267771155 L 8.7228204001293,42.556778273386 L 8.7150751347624,42.564027675983 L 8.7109904635305,42.576605764442 L 8.7243185035707,42.584093673826 L 8.7238415443762,42.574014082285 L 8.7270436936434,42.561604463168 L 8.7381119728326,42.567802968518 L 8.7482834774653,42.568188079066 L 8.7604416501391,42.558569577855 L 8.7686425102482,42.555811440464 L 8.7878053378926,42.558171123435 L 8.8040993857369,42.569855594773 L 8.8001589769082,42.582398778056 L 8.8110798196196,42.589684742309 L 8.8089320042038,42.599059599401 L 8.8235352570811,42.606187366031 L 8.8343194896775,42.601743500142 L 8.8509405731086,42.610583827688 L 8.8649682002014,42.607999881244 L 8.8750416263931,42.613164920347 L 8.8740939946005,42.61817996916 L 8.8865269490476,42.628966058933 L 8.9024157028959,42.627137432183 L 8.9111573343141,42.628894923509 L 8.9181350468671,42.63690550884 L 8.9342605989761,42.638771827731 L 8.9417828616377,42.634096039449 L 8.9593730520526,42.635081802897 L 8.9751743716955,42.640043666233 L 9.0006328532992,42.641910192535 L 9.0103777713521,42.64035209136 L 9.0206940431911,42.644272763711 L 9.0275141840511,42.652054428408 L 9.0460037274368,42.655043174979 L 9.0593208042615,42.660064628209 L 9.0618252740801,42.665092965545 L 9.0538043881836,42.679958481466 L 9.0590940519087,42.694609453744 L 9.0717031140713,42.693409341766 L 9.0797009215888,42.700848589665 L 9.0857643447586,42.714609110752 L 9.0998800974121,42.715246309427 L 9.1059770511843,42.724097520742 L 9.1180072147931,42.726542533128 L 9.1245519786652,42.731631049124 L 9.1360558292684,42.730227284287 L 9.1668856039546,42.736563616418 L 9.1881552949011,42.727336456562 L 9.2038452583029,42.726315061736 L 9.217626725491,42.734222269857 L 9.2245533152652,42.731999951427 L 9.2340050664169,42.719909789956 L 9.2544476997124,42.718515074833 L 9.2593250469014,42.700693050085 L 9.2679444804296,42.699476951561 L 9.2788565397074,42.689592099364 L 9.2844265705845,42.676336087658 L 9.2933224871581,42.674311357318 L 9.30315826849,42.684062221748 L 9.3141769700085,42.688991839255 L 9.3225981035062,42.698103422439 L 9.321292738335,42.713400038631 L 9.3395766319473,42.728992493133 L 9.3444782391532,42.737810423971 L 9.339181189137,42.757928245104 L 9.339659755223,42.776011504848 L 9.3425627879236,42.79480205062 L 9.337774931012,42.804079605712 L 9.3251300488766,42.813332647957 L 9.3205438024435,42.823408404009 L 9.3110153694299,42.834679311095 L 9.3321782165813,42.85847260124 L 9.3401543659189,42.86548579796 L 9.3298530724956,42.872395584774 L 9.3262689644171,42.890315517283 L 9.322223463327,42.899632639571 L 9.353819146522,42.916234653141 L 9.3560395125976,42.927003469485 L 9.3488941969672,42.92930970895 L 9.358603665308,42.94633937258 L 9.348145476117,42.951797488202 L 9.3457582466882,42.957906943631 L 9.3505448749339,42.968270031649 L 9.3421423687094,42.978546347423 L 9.3443683003848,42.985532557301 L 9.3408728322382,42.994464747166 L 9.3590415875145,43.006725446764 L 9.3728616504645,43.004763668513 L 9.3799389872775,43.008193389796 L 9.4044764187179,43.005823769617 L 9.4136701217893,43.006531836354 L 9.4217576417904,43.011724041684 L 9.4308368621636,43.00272384855 L 9.4385130519137,43.000490605004 L 9.4512650406387,42.990315238432 L 9.4635582980189,42.986401078046 L 9.4540973301679,42.97307892537 L 9.4518764864235,42.964359720868 L 9.4576350561474,42.949057159617 L 9.4693212926991,42.936145296863 L 9.4676737905393,42.926807351234 L 9.4707921080556,42.918530856678 L 9.4738686210525,42.891155154693 L 9.4775278660748,42.881442813563 L 9.4730668331504,42.874128797384 L 9.4823148818977,42.864255300645 L 9.484277260776,42.850189178286 L 9.4807429643273,42.840776037517 L 9.485811781953,42.832427261458 L 9.4923850966255,42.805100268638 L 9.4910751495896,42.794970088426 L 9.472078926813,42.77053370509 L 9.4671143214594,42.760859543836 L 9.4685604695043,42.753048544421 L 9.4613913735206,42.740659678567 L 9.4624714977006,42.735628024208 L 9.4561949971884,42.718039470181 L 9.4523972721956,42.693495855424 L 9.4463872288639,42.686125087855 L 9.446189061428,42.673577272426 L 9.4491942129664,42.662239762642 L 9.4621969995941,42.640114758488 L 9.4748795080564,42.624836118132 L 9.5162152677147,42.583012642887 L 9.5256781330523,42.569008285145 L 9.5331957398235,42.545946562512 L 9.5344917834473,42.523982588056 L 9.5300256352103,42.5032908319 L 9.5312290693099,42.484415645223 L 9.5404627433876,42.461067005301 L 9.5408346733534,42.440809257975 L 9.5433951533138,42.428490625529 L 9.5386315892536,42.414019694859 L 9.532672682662,42.379967969125 L 9.5333702262866,42.366280319789 L 9.5372430000044,42.345209511976 L 9.5425016250046,42.328804455976 L 9.5504574617621,42.313214942216 L 9.5588293070416,42.285264635275 L 9.5592262719626,42.271734300663 L 9.5532133692255,42.241433836434 L 9.5528601939832,42.221257653469 L 9.557438978743,42.203166452024 L 9.5544087218137,42.157011398157 L 9.5566017971818,42.142142733245 L 9.5499796055405,42.104165986623 L 9.5313440713912,42.087489423987 L 9.5029309613993,42.055616031082 L 9.4647863427601,42.010954139334 L 9.4415478574917,41.98974926191 L 9.424255411615,41.971535954188 L 9.4125689541656,41.952475652276 L 9.4120532345487,41.939726645644 L 9.4149982681884,41.925108109695 L 9.4112475276506,41.91100050268 L 9.4020635619458,41.897155488353 L 9.3970189665487,41.874613277788 L 9.4022711090103,41.858701678165 z\" /></g></g></svg>"
      ],
      "text/plain": [
       "<shapely.geometry.multipolygon.MultiPolygon at 0x7fb95e441a60>"
      ]
     },
     "execution_count": 723,
     "metadata": {},
     "output_type": "execute_result"
    }
   ],
   "source": [
    "corse = gpd.read_file('http://cordier-phychi.toile-libre.org/Info/github/corse.geojson')\n",
    "corse['geometry'][0]"
   ]
  },
  {
   "cell_type": "code",
   "execution_count": 724,
   "id": "b111b202",
   "metadata": {},
   "outputs": [],
   "source": [
    "dp_data = gpd.read_file('http://cordier-phychi.toile-libre.org/Info/github/departements.geojson')\n",
    "dp_data.drop(columns='nom',inplace=True)\n",
    "dp_data.at[28, 'code'] = 20\n",
    "dp_data.at[28, 'geometry'] = corse['geometry'][0]\n",
    "dp_data = dp_data[~(dp_data['code']==\"2B\")]\n",
    "dp_data['code'] = pd.to_numeric(dp_data['code'])\n",
    "dp_data = dp_data.sort_values(by=\"code\",ascending=True)\n",
    "dp_data = dp_data.set_index('code')"
   ]
  },
  {
   "cell_type": "code",
   "execution_count": 725,
   "id": "7bcf7bce",
   "metadata": {},
   "outputs": [],
   "source": [
    "PRENOMS_LOC = dp_data.merge(PRENOMS, left_index=True, right_index=True)"
   ]
  },
  {
   "cell_type": "code",
   "execution_count": 726,
   "id": "e10a0d01",
   "metadata": {},
   "outputs": [],
   "source": [
    "def carte_comp(composante) :\n",
    "    ax = PRENOMS_LOC.plot(figsize = (30,10), alpha=0.8, column = f\"composante {composante}\", cmap = \"viridis\", legend=True)\n",
    "    ax.axis('off')\n",
    "    return ax"
   ]
  },
  {
   "cell_type": "code",
   "execution_count": 729,
   "id": "0ad7ef44",
   "metadata": {},
   "outputs": [
    {
     "data": {
      "text/plain": [
       "<AxesSubplot:>"
      ]
     },
     "execution_count": 729,
     "metadata": {},
     "output_type": "execute_result"
    },
    {
     "data": {
      "image/png": "[encoded data removed]",
      "text/plain": [
       "<Figure size 2160x720 with 2 Axes>"
      ]
     },
     "metadata": {
      "needs_background": "light"
     },
     "output_type": "display_data"
    }
   ],
   "source": [
    "carte_comp(composante = 1)"
   ]
  },
  {
   "cell_type": "code",
   "execution_count": 728,
   "id": "e209139c",
   "metadata": {},
   "outputs": [
    {
     "data": {
      "text/html": [
       "<div>\n",
       "<style scoped>\n",
       "    .dataframe tbody tr th:only-of-type {\n",
       "        vertical-align: middle;\n",
       "    }\n",
       "\n",
       "    .dataframe tbody tr th {\n",
       "        vertical-align: top;\n",
       "    }\n",
       "\n",
       "    .dataframe thead th {\n",
       "        text-align: right;\n",
       "    }\n",
       "</style>\n",
       "<table border=\"1\" class=\"dataframe\">\n",
       "  <thead>\n",
       "    <tr style=\"text-align: right;\">\n",
       "      <th></th>\n",
       "      <th>premiers</th>\n",
       "      <th>valeur+</th>\n",
       "      <th>derniers</th>\n",
       "      <th>valeur-</th>\n",
       "    </tr>\n",
       "  </thead>\n",
       "  <tbody>\n",
       "    <tr>\n",
       "      <th>0</th>\n",
       "      <td>SARAH</td>\n",
       "      <td>0.024751</td>\n",
       "      <td>FRANCESCU</td>\n",
       "      <td>-0.001444</td>\n",
       "    </tr>\n",
       "    <tr>\n",
       "      <th>1</th>\n",
       "      <td>INÈS</td>\n",
       "      <td>0.024587</td>\n",
       "      <td>PETRU</td>\n",
       "      <td>-0.001444</td>\n",
       "    </tr>\n",
       "    <tr>\n",
       "      <th>2</th>\n",
       "      <td>EDEN</td>\n",
       "      <td>0.024433</td>\n",
       "      <td>SAVERIU</td>\n",
       "      <td>-0.001444</td>\n",
       "    </tr>\n",
       "    <tr>\n",
       "      <th>3</th>\n",
       "      <td>ISAAC</td>\n",
       "      <td>0.02424</td>\n",
       "      <td>MARC'ANDRIA</td>\n",
       "      <td>-0.001444</td>\n",
       "    </tr>\n",
       "    <tr>\n",
       "      <th>4</th>\n",
       "      <td>SANDRA</td>\n",
       "      <td>0.024172</td>\n",
       "      <td>ANGE-MARIE</td>\n",
       "      <td>-0.001444</td>\n",
       "    </tr>\n",
       "    <tr>\n",
       "      <th>5</th>\n",
       "      <td>RUBEN</td>\n",
       "      <td>0.024159</td>\n",
       "      <td>SAVERIA</td>\n",
       "      <td>-0.001288</td>\n",
       "    </tr>\n",
       "    <tr>\n",
       "      <th>6</th>\n",
       "      <td>ADAM</td>\n",
       "      <td>0.024139</td>\n",
       "      <td>MATTEU</td>\n",
       "      <td>-0.001201</td>\n",
       "    </tr>\n",
       "    <tr>\n",
       "      <th>7</th>\n",
       "      <td>ELODIE</td>\n",
       "      <td>0.024093</td>\n",
       "      <td>JORDI</td>\n",
       "      <td>-0.001121</td>\n",
       "    </tr>\n",
       "    <tr>\n",
       "      <th>8</th>\n",
       "      <td>SOFIA</td>\n",
       "      <td>0.024055</td>\n",
       "      <td>CHJARA</td>\n",
       "      <td>-0.000978</td>\n",
       "    </tr>\n",
       "    <tr>\n",
       "      <th>9</th>\n",
       "      <td>WILLIAM</td>\n",
       "      <td>0.024046</td>\n",
       "      <td>ANDRIA</td>\n",
       "      <td>-0.00097</td>\n",
       "    </tr>\n",
       "    <tr>\n",
       "      <th>100</th>\n",
       "      <td>MIA</td>\n",
       "      <td>0.023276</td>\n",
       "      <td>MALOÉ</td>\n",
       "      <td>0.004445</td>\n",
       "    </tr>\n",
       "    <tr>\n",
       "      <th>101</th>\n",
       "      <td>SOPHIA</td>\n",
       "      <td>0.023269</td>\n",
       "      <td>CHAIMAE</td>\n",
       "      <td>0.00445</td>\n",
       "    </tr>\n",
       "    <tr>\n",
       "      <th>102</th>\n",
       "      <td>NAOMI</td>\n",
       "      <td>0.023268</td>\n",
       "      <td>CEYLIN</td>\n",
       "      <td>0.004759</td>\n",
       "    </tr>\n",
       "    <tr>\n",
       "      <th>103</th>\n",
       "      <td>AYDEN</td>\n",
       "      <td>0.023265</td>\n",
       "      <td>RUMEYSA</td>\n",
       "      <td>0.004931</td>\n",
       "    </tr>\n",
       "    <tr>\n",
       "      <th>104</th>\n",
       "      <td>MATTHIEU</td>\n",
       "      <td>0.023265</td>\n",
       "      <td>ENSAR</td>\n",
       "      <td>0.004948</td>\n",
       "    </tr>\n",
       "    <tr>\n",
       "      <th>105</th>\n",
       "      <td>CAMÉLIA</td>\n",
       "      <td>0.023258</td>\n",
       "      <td>BRIAC</td>\n",
       "      <td>0.00506</td>\n",
       "    </tr>\n",
       "    <tr>\n",
       "      <th>106</th>\n",
       "      <td>MAYA</td>\n",
       "      <td>0.023257</td>\n",
       "      <td>IWAN</td>\n",
       "      <td>0.005074</td>\n",
       "    </tr>\n",
       "    <tr>\n",
       "      <th>107</th>\n",
       "      <td>MÉLISSA</td>\n",
       "      <td>0.023251</td>\n",
       "      <td>TIFENN</td>\n",
       "      <td>0.005078</td>\n",
       "    </tr>\n",
       "    <tr>\n",
       "      <th>108</th>\n",
       "      <td>ADEL</td>\n",
       "      <td>0.02325</td>\n",
       "      <td>KERIM</td>\n",
       "      <td>0.005276</td>\n",
       "    </tr>\n",
       "    <tr>\n",
       "      <th>109</th>\n",
       "      <td>JENNIFER</td>\n",
       "      <td>0.023248</td>\n",
       "      <td>PAUL-ANTOINE</td>\n",
       "      <td>0.005361</td>\n",
       "    </tr>\n",
       "    <tr>\n",
       "      <th>200</th>\n",
       "      <td>ALIYA</td>\n",
       "      <td>0.022837</td>\n",
       "      <td>ENORA</td>\n",
       "      <td>0.00961</td>\n",
       "    </tr>\n",
       "    <tr>\n",
       "      <th>201</th>\n",
       "      <td>TATIANA</td>\n",
       "      <td>0.022832</td>\n",
       "      <td>MARC-ANTOINE</td>\n",
       "      <td>0.009647</td>\n",
       "    </tr>\n",
       "    <tr>\n",
       "      <th>202</th>\n",
       "      <td>AMINA</td>\n",
       "      <td>0.022831</td>\n",
       "      <td>ANTHONIN</td>\n",
       "      <td>0.009655</td>\n",
       "    </tr>\n",
       "    <tr>\n",
       "      <th>203</th>\n",
       "      <td>AYDAN</td>\n",
       "      <td>0.02283</td>\n",
       "      <td>KARAMBA</td>\n",
       "      <td>0.00966</td>\n",
       "    </tr>\n",
       "    <tr>\n",
       "      <th>204</th>\n",
       "      <td>MALIKA</td>\n",
       "      <td>0.022817</td>\n",
       "      <td>MAELAN</td>\n",
       "      <td>0.00967</td>\n",
       "    </tr>\n",
       "    <tr>\n",
       "      <th>205</th>\n",
       "      <td>AMIR</td>\n",
       "      <td>0.022811</td>\n",
       "      <td>TYLIO</td>\n",
       "      <td>0.00974</td>\n",
       "    </tr>\n",
       "    <tr>\n",
       "      <th>206</th>\n",
       "      <td>LILIANA</td>\n",
       "      <td>0.02281</td>\n",
       "      <td>DOMINIQUE</td>\n",
       "      <td>0.009748</td>\n",
       "    </tr>\n",
       "    <tr>\n",
       "      <th>207</th>\n",
       "      <td>LAETITIA</td>\n",
       "      <td>0.02281</td>\n",
       "      <td>MANOLO</td>\n",
       "      <td>0.009806</td>\n",
       "    </tr>\n",
       "    <tr>\n",
       "      <th>208</th>\n",
       "      <td>MAXINE</td>\n",
       "      <td>0.02281</td>\n",
       "      <td>ARDA</td>\n",
       "      <td>0.009843</td>\n",
       "    </tr>\n",
       "    <tr>\n",
       "      <th>209</th>\n",
       "      <td>LEYNA</td>\n",
       "      <td>0.022804</td>\n",
       "      <td>GIANI</td>\n",
       "      <td>0.009846</td>\n",
       "    </tr>\n",
       "    <tr>\n",
       "      <th>300</th>\n",
       "      <td>JOY</td>\n",
       "      <td>0.022476</td>\n",
       "      <td>TÉLIO</td>\n",
       "      <td>0.011943</td>\n",
       "    </tr>\n",
       "    <tr>\n",
       "      <th>301</th>\n",
       "      <td>EYDEN</td>\n",
       "      <td>0.022473</td>\n",
       "      <td>LOUANA</td>\n",
       "      <td>0.011978</td>\n",
       "    </tr>\n",
       "    <tr>\n",
       "      <th>302</th>\n",
       "      <td>LYDIA</td>\n",
       "      <td>0.022472</td>\n",
       "      <td>BARAN</td>\n",
       "      <td>0.011996</td>\n",
       "    </tr>\n",
       "    <tr>\n",
       "      <th>303</th>\n",
       "      <td>LUNA</td>\n",
       "      <td>0.022471</td>\n",
       "      <td>THIMEO</td>\n",
       "      <td>0.012016</td>\n",
       "    </tr>\n",
       "    <tr>\n",
       "      <th>304</th>\n",
       "      <td>MAYLINE</td>\n",
       "      <td>0.022465</td>\n",
       "      <td>HONORINE</td>\n",
       "      <td>0.012028</td>\n",
       "    </tr>\n",
       "    <tr>\n",
       "      <th>305</th>\n",
       "      <td>TIMOTHÉE</td>\n",
       "      <td>0.022464</td>\n",
       "      <td>LUDWIG</td>\n",
       "      <td>0.012035</td>\n",
       "    </tr>\n",
       "    <tr>\n",
       "      <th>306</th>\n",
       "      <td>NEILA</td>\n",
       "      <td>0.022459</td>\n",
       "      <td>OSMAN</td>\n",
       "      <td>0.012041</td>\n",
       "    </tr>\n",
       "    <tr>\n",
       "      <th>307</th>\n",
       "      <td>LUC</td>\n",
       "      <td>0.022449</td>\n",
       "      <td>SOKONA</td>\n",
       "      <td>0.012069</td>\n",
       "    </tr>\n",
       "    <tr>\n",
       "      <th>308</th>\n",
       "      <td>AMEL</td>\n",
       "      <td>0.022447</td>\n",
       "      <td>MAIWEN</td>\n",
       "      <td>0.012072</td>\n",
       "    </tr>\n",
       "    <tr>\n",
       "      <th>309</th>\n",
       "      <td>AYMERIC</td>\n",
       "      <td>0.022444</td>\n",
       "      <td>DONOVAN</td>\n",
       "      <td>0.012078</td>\n",
       "    </tr>\n",
       "  </tbody>\n",
       "</table>\n",
       "</div>"
      ],
      "text/plain": [
       "     premiers   valeur+      derniers   valeur-\n",
       "0       SARAH  0.024751     FRANCESCU -0.001444\n",
       "1        INÈS  0.024587         PETRU -0.001444\n",
       "2        EDEN  0.024433       SAVERIU -0.001444\n",
       "3       ISAAC   0.02424   MARC'ANDRIA -0.001444\n",
       "4      SANDRA  0.024172    ANGE-MARIE -0.001444\n",
       "5       RUBEN  0.024159       SAVERIA -0.001288\n",
       "6        ADAM  0.024139        MATTEU -0.001201\n",
       "7      ELODIE  0.024093         JORDI -0.001121\n",
       "8       SOFIA  0.024055        CHJARA -0.000978\n",
       "9     WILLIAM  0.024046        ANDRIA  -0.00097\n",
       "100       MIA  0.023276         MALOÉ  0.004445\n",
       "101    SOPHIA  0.023269       CHAIMAE   0.00445\n",
       "102     NAOMI  0.023268        CEYLIN  0.004759\n",
       "103     AYDEN  0.023265       RUMEYSA  0.004931\n",
       "104  MATTHIEU  0.023265         ENSAR  0.004948\n",
       "105   CAMÉLIA  0.023258         BRIAC   0.00506\n",
       "106      MAYA  0.023257          IWAN  0.005074\n",
       "107   MÉLISSA  0.023251        TIFENN  0.005078\n",
       "108      ADEL   0.02325         KERIM  0.005276\n",
       "109  JENNIFER  0.023248  PAUL-ANTOINE  0.005361\n",
       "200     ALIYA  0.022837         ENORA   0.00961\n",
       "201   TATIANA  0.022832  MARC-ANTOINE  0.009647\n",
       "202     AMINA  0.022831      ANTHONIN  0.009655\n",
       "203     AYDAN   0.02283       KARAMBA   0.00966\n",
       "204    MALIKA  0.022817        MAELAN   0.00967\n",
       "205      AMIR  0.022811         TYLIO   0.00974\n",
       "206   LILIANA   0.02281     DOMINIQUE  0.009748\n",
       "207  LAETITIA   0.02281        MANOLO  0.009806\n",
       "208    MAXINE   0.02281          ARDA  0.009843\n",
       "209     LEYNA  0.022804         GIANI  0.009846\n",
       "300       JOY  0.022476         TÉLIO  0.011943\n",
       "301     EYDEN  0.022473        LOUANA  0.011978\n",
       "302     LYDIA  0.022472         BARAN  0.011996\n",
       "303      LUNA  0.022471        THIMEO  0.012016\n",
       "304   MAYLINE  0.022465      HONORINE  0.012028\n",
       "305  TIMOTHÉE  0.022464        LUDWIG  0.012035\n",
       "306     NEILA  0.022459         OSMAN  0.012041\n",
       "307       LUC  0.022449        SOKONA  0.012069\n",
       "308      AMEL  0.022447        MAIWEN  0.012072\n",
       "309   AYMERIC  0.022444       DONOVAN  0.012078"
      ]
     },
     "execution_count": 728,
     "metadata": {},
     "output_type": "execute_result"
    }
   ],
   "source": [
    "recap(composante = 1)"
   ]
  },
  {
   "cell_type": "markdown",
   "id": "05b11e1c",
   "metadata": {},
   "source": [
    "Valeur d'un prénom donné sur les composantes en places par rapport au max ou au min :"
   ]
  },
  {
   "cell_type": "code",
   "execution_count": 730,
   "id": "40afacd4",
   "metadata": {},
   "outputs": [
    {
     "data": {
      "application/vnd.plotly.v1+json": {
       "config": {
        "plotlyServerURL": "https://plot.ly"
       },
       "data": [
        {
         "alignmentgroup": "True",
         "hovertemplate": "variable=LUC<br>index=%{x}<br>value=%{y}<extra></extra>",
         "legendgroup": "LUC",
         "marker": {
          "color": "#636efa"
         },
         "name": "LUC",
         "offsetgroup": "LUC",
         "orientation": "v",
         "showlegend": true,
         "textposition": "auto",
         "type": "bar",
         "x": [
          "composante 1",
          "composante 2",
          "composante 3",
          "composante 4",
          "composante 5",
          "composante 6",
          "composante 7",
          "composante 8",
          "composante 9",
          "composante 10",
          "composante 11",
          "composante 12",
          "composante 13",
          "composante 14",
          "composante 15"
         ],
         "xaxis": "x",
         "y": [
          0.02244920492213376,
          -0.0009362471996782054,
          0.01703573589906552,
          0.0097361617449734,
          -0.003977288118548333,
          0.02389945107085039,
          -0.02278268026281313,
          -0.013947641265541481,
          0.001543083694553301,
          0.007244790882394401,
          0.0030526691119748665,
          -0.003821285922456628,
          -0.00964778600362732,
          0.007285975708985548,
          0.020809282108915094
         ],
         "yaxis": "y"
        }
       ],
       "layout": {
        "barmode": "relative",
        "legend": {
         "title": {
          "text": "variable"
         },
         "tracegroupgap": 0
        },
        "margin": {
         "t": 60
        },
        "template": {
         "data": {
          "bar": [
           {
            "error_x": {
             "color": "#2a3f5f"
            },
            "error_y": {
             "color": "#2a3f5f"
            },
            "marker": {
             "line": {
              "color": "#E5ECF6",
              "width": 0.5
             }
            },
            "type": "bar"
           }
          ],
          "barpolar": [
           {
            "marker": {
             "line": {
              "color": "#E5ECF6",
              "width": 0.5
             }
            },
            "type": "barpolar"
           }
          ],
          "carpet": [
           {
            "aaxis": {
             "endlinecolor": "#2a3f5f",
             "gridcolor": "white",
             "linecolor": "white",
             "minorgridcolor": "white",
             "startlinecolor": "#2a3f5f"
            },
            "baxis": {
             "endlinecolor": "#2a3f5f",
             "gridcolor": "white",
             "linecolor": "white",
             "minorgridcolor": "white",
             "startlinecolor": "#2a3f5f"
            },
            "type": "carpet"
           }
          ],
          "choropleth": [
           {
            "colorbar": {
             "outlinewidth": 0,
             "ticks": ""
            },
            "type": "choropleth"
           }
          ],
          "contour": [
           {
            "colorbar": {
             "outlinewidth": 0,
             "ticks": ""
            },
            "colorscale": [
             [
              0,
              "#0d0887"
             ],
             [
              0.1111111111111111,
              "#46039f"
             ],
             [
              0.2222222222222222,
              "#7201a8"
             ],
             [
              0.3333333333333333,
              "#9c179e"
             ],
             [
              0.4444444444444444,
              "#bd3786"
             ],
             [
              0.5555555555555556,
              "#d8576b"
             ],
             [
              0.6666666666666666,
              "#ed7953"
             ],
             [
              0.7777777777777778,
              "#fb9f3a"
             ],
             [
              0.8888888888888888,
              "#fdca26"
             ],
             [
              1,
              "#f0f921"
             ]
            ],
            "type": "contour"
           }
          ],
          "contourcarpet": [
           {
            "colorbar": {
             "outlinewidth": 0,
             "ticks": ""
            },
            "type": "contourcarpet"
           }
          ],
          "heatmap": [
           {
            "colorbar": {
             "outlinewidth": 0,
             "ticks": ""
            },
            "colorscale": [
             [
              0,
              "#0d0887"
             ],
             [
              0.1111111111111111,
              "#46039f"
             ],
             [
              0.2222222222222222,
              "#7201a8"
             ],
             [
              0.3333333333333333,
              "#9c179e"
             ],
             [
              0.4444444444444444,
              "#bd3786"
             ],
             [
              0.5555555555555556,
              "#d8576b"
             ],
             [
              0.6666666666666666,
              "#ed7953"
             ],
             [
              0.7777777777777778,
              "#fb9f3a"
             ],
             [
              0.8888888888888888,
              "#fdca26"
             ],
             [
              1,
              "#f0f921"
             ]
            ],
            "type": "heatmap"
           }
          ],
          "heatmapgl": [
           {
            "colorbar": {
             "outlinewidth": 0,
             "ticks": ""
            },
            "colorscale": [
             [
              0,
              "#0d0887"
             ],
             [
              0.1111111111111111,
              "#46039f"
             ],
             [
              0.2222222222222222,
              "#7201a8"
             ],
             [
              0.3333333333333333,
              "#9c179e"
             ],
             [
              0.4444444444444444,
              "#bd3786"
             ],
             [
              0.5555555555555556,
              "#d8576b"
             ],
             [
              0.6666666666666666,
              "#ed7953"
             ],
             [
              0.7777777777777778,
              "#fb9f3a"
             ],
             [
              0.8888888888888888,
              "#fdca26"
             ],
             [
              1,
              "#f0f921"
             ]
            ],
            "type": "heatmapgl"
           }
          ],
          "histogram": [
           {
            "marker": {
             "colorbar": {
              "outlinewidth": 0,
              "ticks": ""
             }
            },
            "type": "histogram"
           }
          ],
          "histogram2d": [
           {
            "colorbar": {
             "outlinewidth": 0,
             "ticks": ""
            },
            "colorscale": [
             [
              0,
              "#0d0887"
             ],
             [
              0.1111111111111111,
              "#46039f"
             ],
             [
              0.2222222222222222,
              "#7201a8"
             ],
             [
              0.3333333333333333,
              "#9c179e"
             ],
             [
              0.4444444444444444,
              "#bd3786"
             ],
             [
              0.5555555555555556,
              "#d8576b"
             ],
             [
              0.6666666666666666,
              "#ed7953"
             ],
             [
              0.7777777777777778,
              "#fb9f3a"
             ],
             [
              0.8888888888888888,
              "#fdca26"
             ],
             [
              1,
              "#f0f921"
             ]
            ],
            "type": "histogram2d"
           }
          ],
          "histogram2dcontour": [
           {
            "colorbar": {
             "outlinewidth": 0,
             "ticks": ""
            },
            "colorscale": [
             [
              0,
              "#0d0887"
             ],
             [
              0.1111111111111111,
              "#46039f"
             ],
             [
              0.2222222222222222,
              "#7201a8"
             ],
             [
              0.3333333333333333,
              "#9c179e"
             ],
             [
              0.4444444444444444,
              "#bd3786"
             ],
             [
              0.5555555555555556,
              "#d8576b"
             ],
             [
              0.6666666666666666,
              "#ed7953"
             ],
             [
              0.7777777777777778,
              "#fb9f3a"
             ],
             [
              0.8888888888888888,
              "#fdca26"
             ],
             [
              1,
              "#f0f921"
             ]
            ],
            "type": "histogram2dcontour"
           }
          ],
          "mesh3d": [
           {
            "colorbar": {
             "outlinewidth": 0,
             "ticks": ""
            },
            "type": "mesh3d"
           }
          ],
          "parcoords": [
           {
            "line": {
             "colorbar": {
              "outlinewidth": 0,
              "ticks": ""
             }
            },
            "type": "parcoords"
           }
          ],
          "pie": [
           {
            "automargin": true,
            "type": "pie"
           }
          ],
          "scatter": [
           {
            "marker": {
             "colorbar": {
              "outlinewidth": 0,
              "ticks": ""
             }
            },
            "type": "scatter"
           }
          ],
          "scatter3d": [
           {
            "line": {
             "colorbar": {
              "outlinewidth": 0,
              "ticks": ""
             }
            },
            "marker": {
             "colorbar": {
              "outlinewidth": 0,
              "ticks": ""
             }
            },
            "type": "scatter3d"
           }
          ],
          "scattercarpet": [
           {
            "marker": {
             "colorbar": {
              "outlinewidth": 0,
              "ticks": ""
             }
            },
            "type": "scattercarpet"
           }
          ],
          "scattergeo": [
           {
            "marker": {
             "colorbar": {
              "outlinewidth": 0,
              "ticks": ""
             }
            },
            "type": "scattergeo"
           }
          ],
          "scattergl": [
           {
            "marker": {
             "colorbar": {
              "outlinewidth": 0,
              "ticks": ""
             }
            },
            "type": "scattergl"
           }
          ],
          "scattermapbox": [
           {
            "marker": {
             "colorbar": {
              "outlinewidth": 0,
              "ticks": ""
             }
            },
            "type": "scattermapbox"
           }
          ],
          "scatterpolar": [
           {
            "marker": {
             "colorbar": {
              "outlinewidth": 0,
              "ticks": ""
             }
            },
            "type": "scatterpolar"
           }
          ],
          "scatterpolargl": [
           {
            "marker": {
             "colorbar": {
              "outlinewidth": 0,
              "ticks": ""
             }
            },
            "type": "scatterpolargl"
           }
          ],
          "scatterternary": [
           {
            "marker": {
             "colorbar": {
              "outlinewidth": 0,
              "ticks": ""
             }
            },
            "type": "scatterternary"
           }
          ],
          "surface": [
           {
            "colorbar": {
             "outlinewidth": 0,
             "ticks": ""
            },
            "colorscale": [
             [
              0,
              "#0d0887"
             ],
             [
              0.1111111111111111,
              "#46039f"
             ],
             [
              0.2222222222222222,
              "#7201a8"
             ],
             [
              0.3333333333333333,
              "#9c179e"
             ],
             [
              0.4444444444444444,
              "#bd3786"
             ],
             [
              0.5555555555555556,
              "#d8576b"
             ],
             [
              0.6666666666666666,
              "#ed7953"
             ],
             [
              0.7777777777777778,
              "#fb9f3a"
             ],
             [
              0.8888888888888888,
              "#fdca26"
             ],
             [
              1,
              "#f0f921"
             ]
            ],
            "type": "surface"
           }
          ],
          "table": [
           {
            "cells": {
             "fill": {
              "color": "#EBF0F8"
             },
             "line": {
              "color": "white"
             }
            },
            "header": {
             "fill": {
              "color": "#C8D4E3"
             },
             "line": {
              "color": "white"
             }
            },
            "type": "table"
           }
          ]
         },
         "layout": {
          "annotationdefaults": {
           "arrowcolor": "#2a3f5f",
           "arrowhead": 0,
           "arrowwidth": 1
          },
          "autotypenumbers": "strict",
          "coloraxis": {
           "colorbar": {
            "outlinewidth": 0,
            "ticks": ""
           }
          },
          "colorscale": {
           "diverging": [
            [
             0,
             "#8e0152"
            ],
            [
             0.1,
             "#c51b7d"
            ],
            [
             0.2,
             "#de77ae"
            ],
            [
             0.3,
             "#f1b6da"
            ],
            [
             0.4,
             "#fde0ef"
            ],
            [
             0.5,
             "#f7f7f7"
            ],
            [
             0.6,
             "#e6f5d0"
            ],
            [
             0.7,
             "#b8e186"
            ],
            [
             0.8,
             "#7fbc41"
            ],
            [
             0.9,
             "#4d9221"
            ],
            [
             1,
             "#276419"
            ]
           ],
           "sequential": [
            [
             0,
             "#0d0887"
            ],
            [
             0.1111111111111111,
             "#46039f"
            ],
            [
             0.2222222222222222,
             "#7201a8"
            ],
            [
             0.3333333333333333,
             "#9c179e"
            ],
            [
             0.4444444444444444,
             "#bd3786"
            ],
            [
             0.5555555555555556,
             "#d8576b"
            ],
            [
             0.6666666666666666,
             "#ed7953"
            ],
            [
             0.7777777777777778,
             "#fb9f3a"
            ],
            [
             0.8888888888888888,
             "#fdca26"
            ],
            [
             1,
             "#f0f921"
            ]
           ],
           "sequentialminus": [
            [
             0,
             "#0d0887"
            ],
            [
             0.1111111111111111,
             "#46039f"
            ],
            [
             0.2222222222222222,
             "#7201a8"
            ],
            [
             0.3333333333333333,
             "#9c179e"
            ],
            [
             0.4444444444444444,
             "#bd3786"
            ],
            [
             0.5555555555555556,
             "#d8576b"
            ],
            [
             0.6666666666666666,
             "#ed7953"
            ],
            [
             0.7777777777777778,
             "#fb9f3a"
            ],
            [
             0.8888888888888888,
             "#fdca26"
            ],
            [
             1,
             "#f0f921"
            ]
           ]
          },
          "colorway": [
           "#636efa",
           "#EF553B",
           "#00cc96",
           "#ab63fa",
           "#FFA15A",
           "#19d3f3",
           "#FF6692",
           "#B6E880",
           "#FF97FF",
           "#FECB52"
          ],
          "font": {
           "color": "#2a3f5f"
          },
          "geo": {
           "bgcolor": "white",
           "lakecolor": "white",
           "landcolor": "#E5ECF6",
           "showlakes": true,
           "showland": true,
           "subunitcolor": "white"
          },
          "hoverlabel": {
           "align": "left"
          },
          "hovermode": "closest",
          "mapbox": {
           "style": "light"
          },
          "paper_bgcolor": "white",
          "plot_bgcolor": "#E5ECF6",
          "polar": {
           "angularaxis": {
            "gridcolor": "white",
            "linecolor": "white",
            "ticks": ""
           },
           "bgcolor": "#E5ECF6",
           "radialaxis": {
            "gridcolor": "white",
            "linecolor": "white",
            "ticks": ""
           }
          },
          "scene": {
           "xaxis": {
            "backgroundcolor": "#E5ECF6",
            "gridcolor": "white",
            "gridwidth": 2,
            "linecolor": "white",
            "showbackground": true,
            "ticks": "",
            "zerolinecolor": "white"
           },
           "yaxis": {
            "backgroundcolor": "#E5ECF6",
            "gridcolor": "white",
            "gridwidth": 2,
            "linecolor": "white",
            "showbackground": true,
            "ticks": "",
            "zerolinecolor": "white"
           },
           "zaxis": {
            "backgroundcolor": "#E5ECF6",
            "gridcolor": "white",
            "gridwidth": 2,
            "linecolor": "white",
            "showbackground": true,
            "ticks": "",
            "zerolinecolor": "white"
           }
          },
          "shapedefaults": {
           "line": {
            "color": "#2a3f5f"
           }
          },
          "ternary": {
           "aaxis": {
            "gridcolor": "white",
            "linecolor": "white",
            "ticks": ""
           },
           "baxis": {
            "gridcolor": "white",
            "linecolor": "white",
            "ticks": ""
           },
           "bgcolor": "#E5ECF6",
           "caxis": {
            "gridcolor": "white",
            "linecolor": "white",
            "ticks": ""
           }
          },
          "title": {
           "x": 0.05
          },
          "xaxis": {
           "automargin": true,
           "gridcolor": "white",
           "linecolor": "white",
           "ticks": "",
           "title": {
            "standoff": 15
           },
           "zerolinecolor": "white",
           "zerolinewidth": 2
          },
          "yaxis": {
           "automargin": true,
           "gridcolor": "white",
           "linecolor": "white",
           "ticks": "",
           "title": {
            "standoff": 15
           },
           "zerolinecolor": "white",
           "zerolinewidth": 2
          }
         }
        },
        "xaxis": {
         "anchor": "y",
         "domain": [
          0,
          1
         ],
         "title": {
          "text": "index"
         }
        },
        "yaxis": {
         "anchor": "x",
         "domain": [
          0,
          1
         ],
         "title": {
          "text": "value"
         }
        }
       }
      },
      "text/html": [
       "<div>                            <div id=\"8b36c2cf-a4c0-47c6-94d2-597378e39476\" class=\"plotly-graph-div\" style=\"height:525px; width:100%;\"></div>            <script type=\"text/javascript\">                require([\"plotly\"], function(Plotly) {                    window.PLOTLYENV=window.PLOTLYENV || {};                                    if (document.getElementById(\"8b36c2cf-a4c0-47c6-94d2-597378e39476\")) {                    Plotly.newPlot(                        \"8b36c2cf-a4c0-47c6-94d2-597378e39476\",                        [{\"alignmentgroup\": \"True\", \"hovertemplate\": \"variable=LUC<br>index=%{x}<br>value=%{y}<extra></extra>\", \"legendgroup\": \"LUC\", \"marker\": {\"color\": \"#636efa\"}, \"name\": \"LUC\", \"offsetgroup\": \"LUC\", \"orientation\": \"v\", \"showlegend\": true, \"textposition\": \"auto\", \"type\": \"bar\", \"x\": [\"composante 1\", \"composante 2\", \"composante 3\", \"composante 4\", \"composante 5\", \"composante 6\", \"composante 7\", \"composante 8\", \"composante 9\", \"composante 10\", \"composante 11\", \"composante 12\", \"composante 13\", \"composante 14\", \"composante 15\"], \"xaxis\": \"x\", \"y\": [0.02244920492213376, -0.0009362471996782054, 0.01703573589906552, 0.0097361617449734, -0.003977288118548333, 0.02389945107085039, -0.02278268026281313, -0.013947641265541481, 0.001543083694553301, 0.007244790882394401, 0.0030526691119748665, -0.003821285922456628, -0.00964778600362732, 0.007285975708985548, 0.020809282108915094], \"yaxis\": \"y\"}],                        {\"barmode\": \"relative\", \"legend\": {\"title\": {\"text\": \"variable\"}, \"tracegroupgap\": 0}, \"margin\": {\"t\": 60}, \"template\": {\"data\": {\"bar\": [{\"error_x\": {\"color\": \"#2a3f5f\"}, \"error_y\": {\"color\": \"#2a3f5f\"}, \"marker\": {\"line\": {\"color\": \"#E5ECF6\", \"width\": 0.5}}, \"type\": \"bar\"}], \"barpolar\": [{\"marker\": {\"line\": {\"color\": \"#E5ECF6\", \"width\": 0.5}}, \"type\": \"barpolar\"}], \"carpet\": [{\"aaxis\": {\"endlinecolor\": \"#2a3f5f\", \"gridcolor\": \"white\", \"linecolor\": \"white\", \"minorgridcolor\": \"white\", \"startlinecolor\": \"#2a3f5f\"}, \"baxis\": {\"endlinecolor\": \"#2a3f5f\", \"gridcolor\": \"white\", \"linecolor\": \"white\", \"minorgridcolor\": \"white\", \"startlinecolor\": \"#2a3f5f\"}, \"type\": \"carpet\"}], \"choropleth\": [{\"colorbar\": {\"outlinewidth\": 0, \"ticks\": \"\"}, \"type\": \"choropleth\"}], \"contour\": [{\"colorbar\": {\"outlinewidth\": 0, \"ticks\": \"\"}, \"colorscale\": [[0.0, \"#0d0887\"], [0.1111111111111111, \"#46039f\"], [0.2222222222222222, \"#7201a8\"], [0.3333333333333333, \"#9c179e\"], [0.4444444444444444, \"#bd3786\"], [0.5555555555555556, \"#d8576b\"], [0.6666666666666666, \"#ed7953\"], [0.7777777777777778, \"#fb9f3a\"], [0.8888888888888888, \"#fdca26\"], [1.0, \"#f0f921\"]], \"type\": \"contour\"}], \"contourcarpet\": [{\"colorbar\": {\"outlinewidth\": 0, \"ticks\": \"\"}, \"type\": \"contourcarpet\"}], \"heatmap\": [{\"colorbar\": {\"outlinewidth\": 0, \"ticks\": \"\"}, \"colorscale\": [[0.0, \"#0d0887\"], [0.1111111111111111, \"#46039f\"], [0.2222222222222222, \"#7201a8\"], [0.3333333333333333, \"#9c179e\"], [0.4444444444444444, \"#bd3786\"], [0.5555555555555556, \"#d8576b\"], [0.6666666666666666, \"#ed7953\"], [0.7777777777777778, \"#fb9f3a\"], [0.8888888888888888, \"#fdca26\"], [1.0, \"#f0f921\"]], \"type\": \"heatmap\"}], \"heatmapgl\": [{\"colorbar\": {\"outlinewidth\": 0, \"ticks\": \"\"}, \"colorscale\": [[0.0, \"#0d0887\"], [0.1111111111111111, \"#46039f\"], [0.2222222222222222, \"#7201a8\"], [0.3333333333333333, \"#9c179e\"], [0.4444444444444444, \"#bd3786\"], [0.5555555555555556, \"#d8576b\"], [0.6666666666666666, \"#ed7953\"], [0.7777777777777778, \"#fb9f3a\"], [0.8888888888888888, \"#fdca26\"], [1.0, \"#f0f921\"]], \"type\": \"heatmapgl\"}], \"histogram\": [{\"marker\": {\"colorbar\": {\"outlinewidth\": 0, \"ticks\": \"\"}}, \"type\": \"histogram\"}], \"histogram2d\": [{\"colorbar\": {\"outlinewidth\": 0, \"ticks\": \"\"}, \"colorscale\": [[0.0, \"#0d0887\"], [0.1111111111111111, \"#46039f\"], [0.2222222222222222, \"#7201a8\"], [0.3333333333333333, \"#9c179e\"], [0.4444444444444444, \"#bd3786\"], [0.5555555555555556, \"#d8576b\"], [0.6666666666666666, \"#ed7953\"], [0.7777777777777778, \"#fb9f3a\"], [0.8888888888888888, \"#fdca26\"], [1.0, \"#f0f921\"]], \"type\": \"histogram2d\"}], \"histogram2dcontour\": [{\"colorbar\": {\"outlinewidth\": 0, \"ticks\": \"\"}, \"colorscale\": [[0.0, \"#0d0887\"], [0.1111111111111111, \"#46039f\"], [0.2222222222222222, \"#7201a8\"], [0.3333333333333333, \"#9c179e\"], [0.4444444444444444, \"#bd3786\"], [0.5555555555555556, \"#d8576b\"], [0.6666666666666666, \"#ed7953\"], [0.7777777777777778, \"#fb9f3a\"], [0.8888888888888888, \"#fdca26\"], [1.0, \"#f0f921\"]], \"type\": \"histogram2dcontour\"}], \"mesh3d\": [{\"colorbar\": {\"outlinewidth\": 0, \"ticks\": \"\"}, \"type\": \"mesh3d\"}], \"parcoords\": [{\"line\": {\"colorbar\": {\"outlinewidth\": 0, \"ticks\": \"\"}}, \"type\": \"parcoords\"}], \"pie\": [{\"automargin\": true, \"type\": \"pie\"}], \"scatter\": [{\"marker\": {\"colorbar\": {\"outlinewidth\": 0, \"ticks\": \"\"}}, \"type\": \"scatter\"}], \"scatter3d\": [{\"line\": {\"colorbar\": {\"outlinewidth\": 0, \"ticks\": \"\"}}, \"marker\": {\"colorbar\": {\"outlinewidth\": 0, \"ticks\": \"\"}}, \"type\": \"scatter3d\"}], \"scattercarpet\": [{\"marker\": {\"colorbar\": {\"outlinewidth\": 0, \"ticks\": \"\"}}, \"type\": \"scattercarpet\"}], \"scattergeo\": [{\"marker\": {\"colorbar\": {\"outlinewidth\": 0, \"ticks\": \"\"}}, \"type\": \"scattergeo\"}], \"scattergl\": [{\"marker\": {\"colorbar\": {\"outlinewidth\": 0, \"ticks\": \"\"}}, \"type\": \"scattergl\"}], \"scattermapbox\": [{\"marker\": {\"colorbar\": {\"outlinewidth\": 0, \"ticks\": \"\"}}, \"type\": \"scattermapbox\"}], \"scatterpolar\": [{\"marker\": {\"colorbar\": {\"outlinewidth\": 0, \"ticks\": \"\"}}, \"type\": \"scatterpolar\"}], \"scatterpolargl\": [{\"marker\": {\"colorbar\": {\"outlinewidth\": 0, \"ticks\": \"\"}}, \"type\": \"scatterpolargl\"}], \"scatterternary\": [{\"marker\": {\"colorbar\": {\"outlinewidth\": 0, \"ticks\": \"\"}}, \"type\": \"scatterternary\"}], \"surface\": [{\"colorbar\": {\"outlinewidth\": 0, \"ticks\": \"\"}, \"colorscale\": [[0.0, \"#0d0887\"], [0.1111111111111111, \"#46039f\"], [0.2222222222222222, \"#7201a8\"], [0.3333333333333333, \"#9c179e\"], [0.4444444444444444, \"#bd3786\"], [0.5555555555555556, \"#d8576b\"], [0.6666666666666666, \"#ed7953\"], [0.7777777777777778, \"#fb9f3a\"], [0.8888888888888888, \"#fdca26\"], [1.0, \"#f0f921\"]], \"type\": \"surface\"}], \"table\": [{\"cells\": {\"fill\": {\"color\": \"#EBF0F8\"}, \"line\": {\"color\": \"white\"}}, \"header\": {\"fill\": {\"color\": \"#C8D4E3\"}, \"line\": {\"color\": \"white\"}}, \"type\": \"table\"}]}, \"layout\": {\"annotationdefaults\": {\"arrowcolor\": \"#2a3f5f\", \"arrowhead\": 0, \"arrowwidth\": 1}, \"autotypenumbers\": \"strict\", \"coloraxis\": {\"colorbar\": {\"outlinewidth\": 0, \"ticks\": \"\"}}, \"colorscale\": {\"diverging\": [[0, \"#8e0152\"], [0.1, \"#c51b7d\"], [0.2, \"#de77ae\"], [0.3, \"#f1b6da\"], [0.4, \"#fde0ef\"], [0.5, \"#f7f7f7\"], [0.6, \"#e6f5d0\"], [0.7, \"#b8e186\"], [0.8, \"#7fbc41\"], [0.9, \"#4d9221\"], [1, \"#276419\"]], \"sequential\": [[0.0, \"#0d0887\"], [0.1111111111111111, \"#46039f\"], [0.2222222222222222, \"#7201a8\"], [0.3333333333333333, \"#9c179e\"], [0.4444444444444444, \"#bd3786\"], [0.5555555555555556, \"#d8576b\"], [0.6666666666666666, \"#ed7953\"], [0.7777777777777778, \"#fb9f3a\"], [0.8888888888888888, \"#fdca26\"], [1.0, \"#f0f921\"]], \"sequentialminus\": [[0.0, \"#0d0887\"], [0.1111111111111111, \"#46039f\"], [0.2222222222222222, \"#7201a8\"], [0.3333333333333333, \"#9c179e\"], [0.4444444444444444, \"#bd3786\"], [0.5555555555555556, \"#d8576b\"], [0.6666666666666666, \"#ed7953\"], [0.7777777777777778, \"#fb9f3a\"], [0.8888888888888888, \"#fdca26\"], [1.0, \"#f0f921\"]]}, \"colorway\": [\"#636efa\", \"#EF553B\", \"#00cc96\", \"#ab63fa\", \"#FFA15A\", \"#19d3f3\", \"#FF6692\", \"#B6E880\", \"#FF97FF\", \"#FECB52\"], \"font\": {\"color\": \"#2a3f5f\"}, \"geo\": {\"bgcolor\": \"white\", \"lakecolor\": \"white\", \"landcolor\": \"#E5ECF6\", \"showlakes\": true, \"showland\": true, \"subunitcolor\": \"white\"}, \"hoverlabel\": {\"align\": \"left\"}, \"hovermode\": \"closest\", \"mapbox\": {\"style\": \"light\"}, \"paper_bgcolor\": \"white\", \"plot_bgcolor\": \"#E5ECF6\", \"polar\": {\"angularaxis\": {\"gridcolor\": \"white\", \"linecolor\": \"white\", \"ticks\": \"\"}, \"bgcolor\": \"#E5ECF6\", \"radialaxis\": {\"gridcolor\": \"white\", \"linecolor\": \"white\", \"ticks\": \"\"}}, \"scene\": {\"xaxis\": {\"backgroundcolor\": \"#E5ECF6\", \"gridcolor\": \"white\", \"gridwidth\": 2, \"linecolor\": \"white\", \"showbackground\": true, \"ticks\": \"\", \"zerolinecolor\": \"white\"}, \"yaxis\": {\"backgroundcolor\": \"#E5ECF6\", \"gridcolor\": \"white\", \"gridwidth\": 2, \"linecolor\": \"white\", \"showbackground\": true, \"ticks\": \"\", \"zerolinecolor\": \"white\"}, \"zaxis\": {\"backgroundcolor\": \"#E5ECF6\", \"gridcolor\": \"white\", \"gridwidth\": 2, \"linecolor\": \"white\", \"showbackground\": true, \"ticks\": \"\", \"zerolinecolor\": \"white\"}}, \"shapedefaults\": {\"line\": {\"color\": \"#2a3f5f\"}}, \"ternary\": {\"aaxis\": {\"gridcolor\": \"white\", \"linecolor\": \"white\", \"ticks\": \"\"}, \"baxis\": {\"gridcolor\": \"white\", \"linecolor\": \"white\", \"ticks\": \"\"}, \"bgcolor\": \"#E5ECF6\", \"caxis\": {\"gridcolor\": \"white\", \"linecolor\": \"white\", \"ticks\": \"\"}}, \"title\": {\"x\": 0.05}, \"xaxis\": {\"automargin\": true, \"gridcolor\": \"white\", \"linecolor\": \"white\", \"ticks\": \"\", \"title\": {\"standoff\": 15}, \"zerolinecolor\": \"white\", \"zerolinewidth\": 2}, \"yaxis\": {\"automargin\": true, \"gridcolor\": \"white\", \"linecolor\": \"white\", \"ticks\": \"\", \"title\": {\"standoff\": 15}, \"zerolinecolor\": \"white\", \"zerolinewidth\": 2}}}, \"xaxis\": {\"anchor\": \"y\", \"domain\": [0.0, 1.0], \"title\": {\"text\": \"index\"}}, \"yaxis\": {\"anchor\": \"x\", \"domain\": [0.0, 1.0], \"title\": {\"text\": \"value\"}}},                        {\"responsive\": true}                    ).then(function(){\n",
       "                            \n",
       "var gd = document.getElementById('8b36c2cf-a4c0-47c6-94d2-597378e39476');\n",
       "var x = new MutationObserver(function (mutations, observer) {{\n",
       "        var display = window.getComputedStyle(gd).display;\n",
       "        if (!display || display === 'none') {{\n",
       "            console.log([gd, 'removed!']);\n",
       "            Plotly.purge(gd);\n",
       "            observer.disconnect();\n",
       "        }}\n",
       "}});\n",
       "\n",
       "// Listen for the removal of the full notebook cells\n",
       "var notebookContainer = gd.closest('#notebook-container');\n",
       "if (notebookContainer) {{\n",
       "    x.observe(notebookContainer, {childList: true});\n",
       "}}\n",
       "\n",
       "// Listen for the clearing of the current output cell\n",
       "var outputEl = gd.closest('.output');\n",
       "if (outputEl) {{\n",
       "    x.observe(outputEl, {childList: true});\n",
       "}}\n",
       "\n",
       "                        })                };                });            </script>        </div>"
      ]
     },
     "metadata": {},
     "output_type": "display_data"
    }
   ],
   "source": [
    "px.bar(decomp.loc['LUC',:])"
   ]
  },
  {
   "cell_type": "markdown",
   "id": "6db9b8d2",
   "metadata": {},
   "source": [
    "Carte de la répartition d'un prénom (données standardisées)"
   ]
  },
  {
   "cell_type": "code",
   "execution_count": 732,
   "id": "862aee41",
   "metadata": {},
   "outputs": [],
   "source": [
    "PRENOMS_STD = pd.DataFrame(X,columns=PRENOMS.columns[:-nb_c])\n",
    "PRENOMS_STD.index = range(1,96)\n",
    "PRENOMS_STD_LOC = dp_data.merge(PRENOMS_STD, left_index=True, right_index=True)"
   ]
  },
  {
   "cell_type": "code",
   "execution_count": 733,
   "id": "094923ab",
   "metadata": {},
   "outputs": [],
   "source": [
    "def carte_prenom(prenom) :\n",
    "    PRENOM = prenom.upper()\n",
    "    ax = PRENOMS_STD_LOC.plot(figsize = (30,10), alpha=0.8, column = PRENOM, cmap = \"viridis\", legend=True)\n",
    "    ax.axis('off')\n",
    "    return ax"
   ]
  },
  {
   "cell_type": "code",
   "execution_count": 741,
   "id": "c3187e71",
   "metadata": {
    "scrolled": false
   },
   "outputs": [
    {
     "data": {
      "text/plain": [
       "<AxesSubplot:>"
      ]
     },
     "execution_count": 741,
     "metadata": {},
     "output_type": "execute_result"
    },
    {
     "data": {
      "image/png": "[encoded data removed]",
      "text/plain": [
       "<Figure size 2160x720 with 2 Axes>"
      ]
     },
     "metadata": {
      "needs_background": "light"
     },
     "output_type": "display_data"
    }
   ],
   "source": [
    "carte_prenom(prenom = 'zola')"
   ]
  },
  {
   "cell_type": "markdown",
   "id": "0544836b",
   "metadata": {},
   "source": [
    "Effectifs et répartition d'un prénom :"
   ]
  },
  {
   "cell_type": "code",
   "execution_count": 738,
   "id": "6948c92f",
   "metadata": {},
   "outputs": [
    {
     "data": {
      "text/plain": [
       "62    27\n",
       "59    26\n",
       "76    22\n",
       "49    19\n",
       "50    11\n",
       "Name: ZOLA, dtype: int64"
      ]
     },
     "execution_count": 738,
     "metadata": {},
     "output_type": "execute_result"
    }
   ],
   "source": [
    "Prenom = 'zola'.upper()\n",
    "PRENOMS.sort_values(by=Prenom,ascending=False)[Prenom].head(5)"
   ]
  },
  {
   "cell_type": "code",
   "execution_count": null,
   "id": "192b997f",
   "metadata": {},
   "outputs": [],
   "source": []
  }
 ],
 "metadata": {
  "kernelspec": {
   "display_name": "Python 3",
   "language": "python",
   "name": "python3"
  },
  "language_info": {
   "codemirror_mode": {
    "name": "ipython",
    "version": 3
   },
   "file_extension": ".py",
   "mimetype": "text/x-python",
   "name": "python",
   "nbconvert_exporter": "python",
   "pygments_lexer": "ipython3",
   "version": "3.8.2"
  }
 },
 "nbformat": 4,
 "nbformat_minor": 5
}
